{
  "cells": [
    {
      "cell_type": "markdown",
      "source": [
        "# Automated ML\n",
        "\n",
        "Import Dependencies. In the cell below, import all the dependencies that you will need to complete the project."
      ],
      "metadata": {}
    },
    {
      "cell_type": "code",
      "source": [
        "# Importing dependencies\n",
        "from azureml.core import Workspace, Experiment, Model\n",
        "from azureml.core.compute import ComputeTarget, AmlCompute\n",
        "from azureml.core.compute_target import ComputeTargetException\n",
        "from azureml.core.run import Run\n",
        "from azureml.widgets import RunDetails\n",
        "from azureml.train.automl import AutoMLConfig\n",
        "from azureml.data.dataset_factory import TabularDatasetFactory\n",
        "from azureml.core import Environment\n",
        "from azureml.core.model import InferenceConfig\n",
        "from azureml.core.webservice import AciWebservice\n",
        "\n",
        "\n",
        "import os\n",
        "import json\n",
        "import joblib\n",
        "import logging\n",
        "import requests"
      ],
      "outputs": [],
      "execution_count": 1,
      "metadata": {
        "gather": {
          "logged": 1656377677546
        },
        "jupyter": {
          "outputs_hidden": false,
          "source_hidden": false
        },
        "nteract": {
          "transient": {
            "deleting": false
          }
        }
      }
    },
    {
      "cell_type": "markdown",
      "source": [
        "## Dataset\n",
        "\n",
        "### Overview\n",
        "For this project, I'm using the Heart Failure Prediction dataset from Kaggle. It contains 12 clinical features that can be used to predict mortality by heart failure. I have downloaded this data and stored in my github repository, used Tabular Datset Factory to get the data in a tabluar form."
      ],
      "metadata": {}
    },
    {
      "cell_type": "code",
      "source": [
        "# Getting data\n",
        "path = \"https://raw.githubusercontent.com/ShashiChilukuri/Data2Deployment-AzureML/main/heart_failure_clinical_records_dataset.csv\"\n",
        "data = TabularDatasetFactory.from_delimited_files(path)"
      ],
      "outputs": [],
      "execution_count": 2,
      "metadata": {
        "gather": {
          "logged": 1656377685063
        }
      }
    },
    {
      "cell_type": "code",
      "source": [
        "# Creating workspace and experiment\n",
        "\n",
        "ws = Workspace.from_config()\n",
        "\n",
        "# choose a name for experiment\n",
        "experiment_name = 'ClassifyHeartFailure-AutoML'\n",
        "experiment=Experiment(ws, experiment_name)"
      ],
      "outputs": [],
      "execution_count": 3,
      "metadata": {
        "gather": {
          "logged": 1656377688007
        },
        "jupyter": {
          "outputs_hidden": false,
          "source_hidden": false
        },
        "nteract": {
          "transient": {
            "deleting": false
          }
        }
      }
    },
    {
      "cell_type": "code",
      "source": [
        "# Check if compute cluster exists, if not create one\n",
        "cluster_name = \"Compute-Standard\" #\"compute-cluster\"\n",
        "\n",
        "try:\n",
        "    cpu_cluster = ComputeTarget(workspace=ws, name=cluster_name)\n",
        "    print('Found existing cluster, use it.')\n",
        "except ComputeTargetException:\n",
        "    compute_config = AmlCompute.provisioning_configuration(vm_size='STANDARD_DS3_V2',min_nodes=1, max_nodes=4)\n",
        "    cpu_cluster = ComputeTarget.create(ws, cluster_name, compute_config)\n",
        "cpu_cluster.wait_for_completion(show_output=True)\n",
        "\n",
        "# get status of the cluster\n",
        "print(cpu_cluster.get_status().serialize())"
      ],
      "outputs": [
        {
          "output_type": "stream",
          "name": "stdout",
          "text": "Found existing cluster, use it.\nSucceeded\nAmlCompute wait for completion finished\n\nMinimum number of nodes requested have been provisioned\n{'currentNodeCount': 3, 'targetNodeCount': 3, 'nodeStateCounts': {'preparingNodeCount': 0, 'runningNodeCount': 0, 'idleNodeCount': 3, 'unusableNodeCount': 0, 'leavingNodeCount': 0, 'preemptedNodeCount': 0}, 'allocationState': 'Steady', 'allocationStateTransitionTime': '2022-06-28T00:32:32.023000+00:00', 'errors': None, 'creationTime': '2022-06-27T22:08:07.283404+00:00', 'modifiedTime': '2022-06-27T22:08:13.905336+00:00', 'provisioningState': 'Succeeded', 'provisioningStateTransitionTime': None, 'scaleSettings': {'minNodeCount': 1, 'maxNodeCount': 4, 'nodeIdleTimeBeforeScaleDown': 'PT1800S'}, 'vmPriority': 'Dedicated', 'vmSize': 'STANDARD_DS3_V2'}\n"
        }
      ],
      "execution_count": 4,
      "metadata": {
        "gather": {
          "logged": 1656377693603
        }
      }
    },
    {
      "cell_type": "markdown",
      "source": [
        "## AutoML Configuration\n",
        "\n",
        "AutoML config class used for submittting an automated ML experiment in the Azure Machine learning. Auto ML settings helps to moderate how we want our experiment to be run. In this case, wanted to experiment to timeout in 30 minutes, with max iterations to be executed in parallel is 5 and cross validation to perform is 2. Although there are many metrics, I choose to pick \"accuracy\" metric, as it would be good metric for simple datasets. These automl settings are passed on to AutoMLConfig class along with the compute instance, data, task type and label."
      ],
      "metadata": {}
    },
    {
      "cell_type": "code",
      "source": [
        "# Automl settings\n",
        "automl_settings = {\"experiment_timeout_minutes\": 30,\n",
        "                   \"max_concurrent_iterations\": 5,\n",
        "                   \"n_cross_validations\": 2,\n",
        "                   \"primary_metric\": 'accuracy',\n",
        "                   \"verbosity\": logging.INFO\n",
        "                  }\n",
        "\n",
        "# TODO: Put your automl config here\n",
        "automl_config = AutoMLConfig(task='classification',\n",
        "                             compute_target=cpu_cluster,\n",
        "                             training_data=data,\n",
        "                             label_column_name='DEATH_EVENT',\n",
        "                             **automl_settings)"
      ],
      "outputs": [],
      "execution_count": 5,
      "metadata": {
        "gather": {
          "logged": 1656377697727
        },
        "jupyter": {
          "outputs_hidden": false,
          "source_hidden": false
        },
        "nteract": {
          "transient": {
            "deleting": false
          }
        }
      }
    },
    {
      "cell_type": "code",
      "source": [
        "# Submit experiment\n",
        "remote_run = experiment.submit(automl_config)"
      ],
      "outputs": [
        {
          "output_type": "stream",
          "name": "stdout",
          "text": "Submitting remote run.\n"
        },
        {
          "output_type": "display_data",
          "data": {
            "text/plain": "<IPython.core.display.HTML object>",
            "text/html": "<table style=\"width:100%\"><tr><th>Experiment</th><th>Id</th><th>Type</th><th>Status</th><th>Details Page</th><th>Docs Page</th></tr><tr><td>ClassifyHeartFailure-AutoML</td><td>AutoML_580b1e1a-0ea0-4980-9412-3c88532c0271</td><td>automl</td><td>NotStarted</td><td><a href=\"https://ml.azure.com/runs/AutoML_580b1e1a-0ea0-4980-9412-3c88532c0271?wsid=/subscriptions/6971f5ac-8af1-446e-8034-05acea24681f/resourcegroups/aml-quickstarts-199609/workspaces/quick-starts-ws-199609&amp;tid=660b3398-b80e-49d2-bc5b-ac1dc93b5254\" target=\"_blank\" rel=\"noopener\">Link to Azure Machine Learning studio</a></td><td><a href=\"https://docs.microsoft.com/en-us/python/api/overview/azure/ml/intro?view=azure-ml-py\" target=\"_blank\" rel=\"noopener\">Link to Documentation</a></td></tr></table>"
          },
          "metadata": {}
        }
      ],
      "execution_count": 6,
      "metadata": {
        "gather": {
          "logged": 1656377703717
        },
        "jupyter": {
          "outputs_hidden": false,
          "source_hidden": false
        },
        "nteract": {
          "transient": {
            "deleting": false
          }
        }
      }
    },
    {
      "cell_type": "markdown",
      "source": [
        "## Run Details\n",
        "`RunDetails` widget to show the different experiments."
      ],
      "metadata": {}
    },
    {
      "cell_type": "code",
      "source": [
        "RunDetails(remote_run).show()\n",
        "remote_run.wait_for_completion(show_output=True)"
      ],
      "outputs": [
        {
          "output_type": "display_data",
          "data": {
            "text/plain": "_AutoMLWidget(widget_settings={'childWidgetDisplay': 'popup', 'send_telemetry': False, 'log_level': 'INFO', 's…",
            "application/vnd.jupyter.widget-view+json": {
              "version_major": 2,
              "version_minor": 0,
              "model_id": "e5fc04863f034ce9ab3405b4f01b3a16"
            }
          },
          "metadata": {}
        },
        {
          "output_type": "display_data",
          "data": {
            "application/aml.mini.widget.v1": "{\"status\": \"Completed\", \"workbench_run_details_uri\": \"https://ml.azure.com/runs/AutoML_580b1e1a-0ea0-4980-9412-3c88532c0271?wsid=/subscriptions/6971f5ac-8af1-446e-8034-05acea24681f/resourcegroups/aml-quickstarts-199609/workspaces/quick-starts-ws-199609&tid=660b3398-b80e-49d2-bc5b-ac1dc93b5254\", \"run_id\": \"AutoML_580b1e1a-0ea0-4980-9412-3c88532c0271\", \"run_properties\": {\"run_id\": \"AutoML_580b1e1a-0ea0-4980-9412-3c88532c0271\", \"created_utc\": \"2022-06-28T00:55:02.912764Z\", \"properties\": {\"num_iterations\": \"1000\", \"training_type\": \"TrainFull\", \"acquisition_function\": \"EI\", \"primary_metric\": \"accuracy\", \"train_split\": \"0\", \"acquisition_parameter\": \"0\", \"num_cross_validation\": \"2\", \"target\": \"Compute-Standard\", \"AMLSettingsJsonString\": \"{\\\"path\\\":null,\\\"name\\\":\\\"ClassifyHeartFailure-AutoML\\\",\\\"subscription_id\\\":\\\"6971f5ac-8af1-446e-8034-05acea24681f\\\",\\\"resource_group\\\":\\\"aml-quickstarts-199609\\\",\\\"workspace_name\\\":\\\"quick-starts-ws-199609\\\",\\\"region\\\":\\\"southcentralus\\\",\\\"compute_target\\\":\\\"Compute-Standard\\\",\\\"spark_service\\\":null,\\\"azure_service\\\":\\\"remote\\\",\\\"many_models\\\":false,\\\"pipeline_fetch_max_batch_size\\\":1,\\\"enable_batch_run\\\":true,\\\"enable_run_restructure\\\":false,\\\"start_auxiliary_runs_before_parent_complete\\\":false,\\\"enable_code_generation\\\":true,\\\"iterations\\\":1000,\\\"primary_metric\\\":\\\"accuracy\\\",\\\"task_type\\\":\\\"classification\\\",\\\"positive_label\\\":null,\\\"data_script\\\":null,\\\"test_size\\\":0.0,\\\"test_include_predictions_only\\\":false,\\\"validation_size\\\":0.0,\\\"n_cross_validations\\\":2,\\\"y_min\\\":null,\\\"y_max\\\":null,\\\"num_classes\\\":null,\\\"featurization\\\":\\\"auto\\\",\\\"_ignore_package_version_incompatibilities\\\":false,\\\"is_timeseries\\\":false,\\\"max_cores_per_iteration\\\":1,\\\"max_concurrent_iterations\\\":5,\\\"iteration_timeout_minutes\\\":null,\\\"mem_in_mb\\\":null,\\\"enforce_time_on_windows\\\":false,\\\"experiment_timeout_minutes\\\":30,\\\"experiment_exit_score\\\":null,\\\"partition_column_names\\\":null,\\\"whitelist_models\\\":null,\\\"blacklist_algos\\\":[\\\"TensorFlowLinearClassifier\\\",\\\"TensorFlowDNN\\\"],\\\"supported_models\\\":[\\\"SGD\\\",\\\"XGBoostClassifier\\\",\\\"AveragedPerceptronClassifier\\\",\\\"BernoulliNaiveBayes\\\",\\\"KNN\\\",\\\"DecisionTree\\\",\\\"LogisticRegression\\\",\\\"TensorFlowLinearClassifier\\\",\\\"ExtremeRandomTrees\\\",\\\"MultinomialNaiveBayes\\\",\\\"RandomForest\\\",\\\"TabnetClassifier\\\",\\\"TensorFlowDNN\\\",\\\"LinearSVM\\\",\\\"GradientBoosting\\\",\\\"SVM\\\",\\\"LightGBM\\\"],\\\"private_models\\\":[],\\\"auto_blacklist\\\":true,\\\"blacklist_samples_reached\\\":false,\\\"exclude_nan_labels\\\":true,\\\"verbosity\\\":20,\\\"_debug_log\\\":\\\"azureml_automl.log\\\",\\\"show_warnings\\\":false,\\\"model_explainability\\\":true,\\\"service_url\\\":null,\\\"sdk_url\\\":null,\\\"sdk_packages\\\":null,\\\"enable_onnx_compatible_models\\\":false,\\\"enable_split_onnx_featurizer_estimator_models\\\":false,\\\"vm_type\\\":\\\"STANDARD_DS3_V2\\\",\\\"telemetry_verbosity\\\":20,\\\"send_telemetry\\\":true,\\\"enable_dnn\\\":false,\\\"scenario\\\":\\\"SDK-1.13.0\\\",\\\"environment_label\\\":null,\\\"save_mlflow\\\":false,\\\"enable_categorical_indicators\\\":false,\\\"force_text_dnn\\\":false,\\\"enable_feature_sweeping\\\":true,\\\"enable_early_stopping\\\":true,\\\"early_stopping_n_iters\\\":10,\\\"arguments\\\":null,\\\"dataset_id\\\":\\\"3689506b-c445-4bd7-a527-46695ffe5ece\\\",\\\"hyperdrive_config\\\":null,\\\"validation_dataset_id\\\":null,\\\"run_source\\\":null,\\\"metrics\\\":null,\\\"enable_metric_confidence\\\":false,\\\"enable_ensembling\\\":true,\\\"enable_stack_ensembling\\\":true,\\\"ensemble_iterations\\\":15,\\\"enable_tf\\\":false,\\\"enable_subsampling\\\":null,\\\"subsample_seed\\\":null,\\\"enable_nimbusml\\\":false,\\\"enable_streaming\\\":false,\\\"force_streaming\\\":false,\\\"track_child_runs\\\":true,\\\"allowed_private_models\\\":[],\\\"label_column_name\\\":\\\"DEATH_EVENT\\\",\\\"weight_column_name\\\":null,\\\"cv_split_column_names\\\":null,\\\"enable_local_managed\\\":false,\\\"_local_managed_run_id\\\":null,\\\"cost_mode\\\":1,\\\"lag_length\\\":0,\\\"metric_operation\\\":\\\"maximize\\\",\\\"preprocess\\\":true}\", \"DataPrepJsonString\": \"{\\\\\\\"training_data\\\\\\\": {\\\\\\\"datasetId\\\\\\\": \\\\\\\"3689506b-c445-4bd7-a527-46695ffe5ece\\\\\\\"}, \\\\\\\"datasets\\\\\\\": 0}\", \"EnableSubsampling\": null, \"runTemplate\": \"AutoML\", \"azureml.runsource\": \"automl\", \"display_task_type\": \"classification\", \"dependencies_versions\": \"{\\\"azureml-widgets\\\": \\\"1.42.0\\\", \\\"azureml-training-tabular\\\": \\\"1.42.0\\\", \\\"azureml-train\\\": \\\"1.42.0\\\", \\\"azureml-train-restclients-hyperdrive\\\": \\\"1.42.0\\\", \\\"azureml-train-core\\\": \\\"1.42.0\\\", \\\"azureml-train-automl\\\": \\\"1.42.0\\\", \\\"azureml-train-automl-runtime\\\": \\\"1.42.0\\\", \\\"azureml-train-automl-client\\\": \\\"1.42.0\\\", \\\"azureml-tensorboard\\\": \\\"1.42.0\\\", \\\"azureml-telemetry\\\": \\\"1.42.0\\\", \\\"azureml-sdk\\\": \\\"1.42.0\\\", \\\"azureml-samples\\\": \\\"0+unknown\\\", \\\"azureml-responsibleai\\\": \\\"1.42.0\\\", \\\"azureml-pipeline\\\": \\\"1.42.0\\\", \\\"azureml-pipeline-steps\\\": \\\"1.42.0\\\", \\\"azureml-pipeline-core\\\": \\\"1.42.0\\\", \\\"azureml-opendatasets\\\": \\\"1.42.0\\\", \\\"azureml-mlflow\\\": \\\"1.42.0\\\", \\\"azureml-interpret\\\": \\\"1.42.0\\\", \\\"azureml-inference-server-http\\\": \\\"0.4.13\\\", \\\"azureml-explain-model\\\": \\\"1.42.0\\\", \\\"azureml-defaults\\\": \\\"1.42.0\\\", \\\"azureml-dataset-runtime\\\": \\\"1.42.0\\\", \\\"azureml-dataprep\\\": \\\"4.0.1\\\", \\\"azureml-dataprep-rslex\\\": \\\"2.6.1\\\", \\\"azureml-dataprep-native\\\": \\\"38.0.0\\\", \\\"azureml-datadrift\\\": \\\"1.42.0\\\", \\\"azureml-core\\\": \\\"1.42.0\\\", \\\"azureml-contrib-services\\\": \\\"1.42.0\\\", \\\"azureml-contrib-server\\\": \\\"1.42.0\\\", \\\"azureml-contrib-reinforcementlearning\\\": \\\"1.42.0\\\", \\\"azureml-contrib-pipeline-steps\\\": \\\"1.42.0\\\", \\\"azureml-contrib-notebook\\\": \\\"1.42.0\\\", \\\"azureml-contrib-fairness\\\": \\\"1.42.0\\\", \\\"azureml-contrib-dataset\\\": \\\"1.42.0\\\", \\\"azureml-contrib-automl-pipeline-steps\\\": \\\"1.42.0\\\", \\\"azureml-cli-common\\\": \\\"1.42.0\\\", \\\"azureml-automl-runtime\\\": \\\"1.42.0\\\", \\\"azureml-automl-dnn-nlp\\\": \\\"1.42.0\\\", \\\"azureml-automl-core\\\": \\\"1.42.0\\\", \\\"azureml-accel-models\\\": \\\"1.42.0\\\"}\", \"_aml_system_scenario_identification\": \"Remote.Parent\", \"ClientType\": \"SDK\", \"environment_cpu_name\": \"AzureML-AutoML\", \"environment_cpu_label\": \"prod\", \"environment_gpu_name\": \"AzureML-AutoML-GPU\", \"environment_gpu_label\": \"prod\", \"root_attribution\": \"automl\", \"attribution\": \"AutoML\", \"Orchestrator\": \"AutoML\", \"CancelUri\": \"https://southcentralus.api.azureml.ms/jasmine/v1.0/subscriptions/6971f5ac-8af1-446e-8034-05acea24681f/resourceGroups/aml-quickstarts-199609/providers/Microsoft.MachineLearningServices/workspaces/quick-starts-ws-199609/experimentids/6f19f0b0-3cd6-42fd-aa9f-d8152ae5cdf2/cancel/AutoML_580b1e1a-0ea0-4980-9412-3c88532c0271\", \"ClientSdkVersion\": \"1.42.0.post1\", \"snapshotId\": \"00000000-0000-0000-0000-000000000000\", \"SetupRunId\": \"AutoML_580b1e1a-0ea0-4980-9412-3c88532c0271_setup\", \"SetupRunContainerId\": \"dcid.AutoML_580b1e1a-0ea0-4980-9412-3c88532c0271_setup\", \"FeaturizationRunJsonPath\": \"featurizer_container.json\", \"FeaturizationRunId\": \"AutoML_580b1e1a-0ea0-4980-9412-3c88532c0271_featurize\", \"ProblemInfoJsonString\": \"{\\\"dataset_num_categorical\\\": 0, \\\"is_sparse\\\": false, \\\"subsampling\\\": false, \\\"has_extra_col\\\": true, \\\"dataset_classes\\\": 2, \\\"dataset_features\\\": 12, \\\"dataset_samples\\\": 299, \\\"single_frequency_class_detected\\\": false}\", \"ModelExplainRunId\": \"AutoML_580b1e1a-0ea0-4980-9412-3c88532c0271_ModelExplain\"}, \"tags\": {\"model_explain_run\": \"best_run\", \"_aml_system_automl_run_workspace_id\": \"c244e1e2-e153-4748-8b17-4fd8e8b4fe0d\", \"_aml_system_azureml.automlComponent\": \"AutoML\", \"pipeline_id\": \"<628c2351f7c75d74ad3673f2d39af16d6976da2e>;<5dfac790c5c209f98a1da2dc1c7fb76f0397324f>;<c7af0367625be6ac5c2fecbfc72ed444cb7a2111>;<3735210984ea10097d5c91905cf6300ac278cd89>;<799d2168db11fc19b9e1c6c1df62f8981ad39fe9>;<2964988f7520e6167bfe42ba2c42ab4a75f8a68c>;<44b5d2d23120dfcf96a7dc6389a293d17a966b1b>;<5304e705d6f401cb07f85bcf0ca59ac1f84dfcf5>;<5f21d4801ee2a6073890b89985177d37ef49c646>;<081b692de9e87424d86c2c1d0787b65e098fc386>;<294650ec23bc3d067a4972de7ceb12f6e97260fa>;<08e13545f5f7e2df5ef6a66d4110cfd996b1a0e3>;<22bffc6cdfb453aa19b0792ec8a8b592bd44dc5b>;<bc4e14e9481990f09b66c70640f3b1c528f584ac>;<ce96746d6f86360fe360023f5ae43340d1986145>;<ca211529127bb19e1fc933b24b457a03beb5e48e>;<7b422e7b3f86902c2409d5b5d9ff0c84d5dacfee>;<3caa818370e5e0c328d6266c359019bd31681270>;<589334a57221e0720a95cf217c065115a7b841d1>;<35b8e2db3c5f6e714072e1be9f0210fe48426975>;<da45f657e4591caadf1589a85a1f7b8932585595>;<3fd2e115482e0c7b92aa3297688aefb6c3aa6fb8>;<1dfdf370ba770047b14bfa59c40920815defcdab>;<17f87d449bb43aaf3cdae4b7eb6dd6e7fbdaf343>;<dc68fbd594530b5d52812dd9b3ffa3d6d8ba625e>;<5a8eb9d9f67b1dd7e9e4062585daa2417ea78989>;<83c8974d3c3077eb039f99670786892c05e08d80>;<e24d94003b8d24eba8593a7682c9854816aa5e90>;<f0ea9ff175d03a19ae03ebe2246a695c85b44396>;<3d9e37d91189f9df1d9c0f2e0cfed345c3a54197>;<67e17b268418625269cf53d48c06405ef1d63764>;<efb108535b85b89a4fb874840a154d479c2cd246>;<6e9b2d490c9ec2590e664e6a8660bd908d516a14>;<b459e979244cccd9f7020a0cbea24d048911774b>;<d4a0230cdc4e757b3ecd2a2f364f8f0141fb5e8d>;<d9ba737fae2aabd7dd7a39ddbf0b28d629860c16>;<7a175c9b0d6841055004b935356daa8156096425>;<664e966ce723fe972f3a23a912154a68b05d3f1e>;<f67cd3269a1e5f4666b6d6b923f11d0ca4cb62da>;<5514b33779751d8de84d44049fd977b392dfd7b2>;<5eccf442d67373b61801108b24060743d362854e>;<a1a8a8d721a4a21920496cad156c2cb8a18be08a>;<18a16a61c45af9411bccf4f3f810341d272d0f8f>;<16f63b91950ee02b957e9d1ced63f54cdeb45e1e>;<9ae570c73d438d6be51957bfdf913b72e37df460>;<__AutoML_Stack_Ensemble__>;<__AutoML_Ensemble__>;\", \"score\": \"<0.638814317673378>;<0.8093512304250559>;<0.8160178970917226>;<0.8394854586129754>;<0.8159507829977628>;<0.7691498881431768>;<0.7693064876957494>;<0.8160178970917226>;<0.6421252796420581>;<0.695592841163311>;<0.7959507829977628>;<0.8359955257270693>;<0.75248322147651>;<0.7023489932885906>;<0.7056823266219239>;<0.7391275167785235>;<0.6990827740492169>;<0.8160402684563759>;<0.8293959731543624>;<0.8294183445190157>;<0.7892170022371365>;<0.8561744966442952>;<0.7659731543624161>;<0.8227069351230425>;<0.8260626398210291>;<0.8093736017897092>;<0.8595078299776286>;<0.8093512304250559>;<0.8193959731543624>;<0.846152125279642>;<0.8160402684563759>;<0.8293959731543624>;<0.842751677852349>;<0.8427740492170023>;<0.8060402684563759>;<0.6789485458612976>;<0.8293736017897092>;<0.805973154362416>;<0.812662192393736>;<0.815973154362416>;<0.7827069351230425>;<NaN>;<NaN>;<NaN>;<NaN>;<0.8327516778523489>;<0.8628859060402685>;\", \"predicted_cost\": \"<0.5>;<0>;<0>;<0.5>;<0.5>;<0.5>;<0.5>;<0.5>;<0.5>;<0.5>;<0.5>;<0.5>;<0.5>;<0.5>;<0.5>;<0.5>;<0.5>;<0.5>;<0.5>;<0.5>;<0.03455467699719769>;<0.005925402357608552>;<0.14706662902770348>;<0.01750516176071106>;<0.03397078873029216>;<0.018861318923990667>;<0.010208753419375282>;<0.040350690744639116>;<0.06132135980304095>;<0.011805586856264058>;<0.021206052619307227>;<0.017625412042826916>;<0.09371675495888546>;<0.010375676115693977>;<0.030695200633521238>;<0.028266865500339782>;<0.10340115389699991>;<0.3158418367453419>;<0.04100499062447927>;<0.03217747429802592>;<0.04839654662203612>;<0.036000337073413546>;<0.10779479496268447>;<0.011444481852104577>;<0.07047252575439855>;<0>;<0>;\", \"fit_time\": \"<0.004403>;<0.0152385>;<0.025561>;<0.0099405>;<0.1441405>;<0.016071000000000002>;<0.008490000000000001>;<0.0083475>;<0.003602>;<0.0090955>;<0.0083795>;<0.241859>;<0.051424>;<0.006461>;<0.0075>;<0.0034695>;<0.0049885>;<0.0108685>;<0.007943500000000001>;<0.007958999999999999>;<0.0302565>;<0.010289>;<0.15552>;<0.050714499999999996>;<0.0125095>;<0.007176500000000001>;<0.021655>;<0.11631350000000001>;<0.024896>;<0.0086695>;<0.017046>;<0.032100500000000004>;<0.21612900000000002>;<0.0102615>;<0.017672>;<0.1202595>;<0.260659>;<0.024704499999999997>;<0.016845>;<0.0080955>;<0.116007>;<NaN>;<NaN>;<NaN>;<NaN>;<13>;<15>;\", \"training_percent\": \"<100>;<100>;<100>;<100>;<100>;<100>;<100>;<100>;<100>;<100>;<100>;<100>;<100>;<100>;<100>;<100>;<100>;<100>;<100>;<100>;<100>;<100>;<100>;<100>;<100>;<100>;<100>;<100>;<100>;<100>;<100>;<100>;<100>;<100>;<100>;<100>;<100>;<100>;<100>;<100>;<100>;<100>;<100>;<100>;<100>;<100>;<100>;\", \"iteration\": \"<4>;<0>;<1>;<5>;<2>;<6>;<3>;<7>;<8>;<9>;<10>;<11>;<12>;<13>;<14>;<16>;<15>;<17>;<18>;<19>;<20>;<21>;<22>;<23>;<25>;<24>;<26>;<27>;<28>;<29>;<30>;<31>;<32>;<33>;<34>;<35>;<36>;<37>;<38>;<39>;<40>;<41>;<44>;<42>;<43>;<46>;<45>;\", \"run_preprocessor\": \"<StandardScalerWrapper>;<MaxAbsScaler>;<MaxAbsScaler>;<MaxAbsScaler>;<MaxAbsScaler>;<RobustScaler>;<SparseNormalizer>;<MaxAbsScaler>;<StandardScalerWrapper>;<StandardScalerWrapper>;<StandardScalerWrapper>;<MinMaxScaler>;<StandardScalerWrapper>;<StandardScalerWrapper>;<RobustScaler>;<SparseNormalizer>;<MinMaxScaler>;<MaxAbsScaler>;<StandardScalerWrapper>;<StandardScalerWrapper>;<MaxAbsScaler>;<StandardScalerWrapper>;<SparseNormalizer>;<StandardScalerWrapper>;<StandardScalerWrapper>;<SparseNormalizer>;<RobustScaler>;<StandardScalerWrapper>;<RobustScaler>;<MinMaxScaler>;<SparseNormalizer>;<StandardScalerWrapper>;<MinMaxScaler>;<MaxAbsScaler>;<MinMaxScaler>;<SparseNormalizer>;<MinMaxScaler>;<SparseNormalizer>;<StandardScalerWrapper>;<StandardScalerWrapper>;<SparseNormalizer>;<>;<>;<>;<>;<>;<>;\", \"run_algorithm\": \"<KNN>;<LightGBM>;<XGBoostClassifier>;<LightGBM>;<ExtremeRandomTrees>;<LogisticRegression>;<XGBoostClassifier>;<LightGBM>;<KNN>;<SVM>;<XGBoostClassifier>;<RandomForest>;<LogisticRegression>;<KNN>;<KNN>;<KNN>;<KNN>;<LogisticRegression>;<XGBoostClassifier>;<XGBoostClassifier>;<LogisticRegression>;<XGBoostClassifier>;<RandomForest>;<RandomForest>;<XGBoostClassifier>;<LightGBM>;<RandomForest>;<XGBoostClassifier>;<LightGBM>;<LightGBM>;<XGBoostClassifier>;<GradientBoosting>;<RandomForest>;<LightGBM>;<LightGBM>;<RandomForest>;<RandomForest>;<XGBoostClassifier>;<XGBoostClassifier>;<XGBoostClassifier>;<RandomForest>;<>;<>;<>;<>;<StackEnsemble>;<VotingEnsemble>;\", \"dynamic_allowlisting_iterations\": \"<24>;<30>;<35>;<40>;\", \"_aml_system_azureml.automl_early_exit_message\": \"No scores improved over last 10 iterations, so experiment stopped early. This early stopping behavior can be disabled by setting enable_early_stopping = False in AutoMLConfig for notebook/python SDK runs.\", \"automl_best_child_run_id\": \"AutoML_580b1e1a-0ea0-4980-9412-3c88532c0271_45\"}, \"end_time_utc\": \"2022-06-28T01:10:49.785517Z\", \"status\": \"Completed\", \"log_files\": {}, \"log_groups\": [], \"run_duration\": \"0:15:46\", \"run_number\": \"1656377702\", \"run_queued_details\": {\"status\": \"Completed\", \"details\": null}}, \"child_runs\": [{\"run_id\": \"AutoML_580b1e1a-0ea0-4980-9412-3c88532c0271_setup\", \"run_number\": 1656377715, \"metric\": null, \"status\": \"Completed\", \"run_type\": \"azureml.scriptrun\", \"training_percent\": null, \"start_time\": \"2022-06-28T00:55:45.209757Z\", \"end_time\": \"2022-06-28T00:55:48.767472Z\", \"created_time\": \"2022-06-28T00:55:15.439722Z\", \"created_time_dt\": \"2022-06-28T00:55:15.439722Z\", \"duration\": \"0:00:33\", \"iteration\": null, \"goal\": null, \"run_name\": \"Completed\", \"run_properties\": null}, {\"run_id\": \"AutoML_580b1e1a-0ea0-4980-9412-3c88532c0271_featurize\", \"run_number\": 1656377749, \"metric\": null, \"status\": \"Completed\", \"run_type\": \"automl.featurization\", \"training_percent\": null, \"start_time\": \"2022-06-28T00:55:49.39627Z\", \"end_time\": \"2022-06-28T00:56:18.350141Z\", \"created_time\": \"2022-06-28T00:55:49.11704Z\", \"created_time_dt\": \"2022-06-28T00:55:49.11704Z\", \"duration\": \"0:00:29\", \"iteration\": null, \"goal\": null, \"run_name\": \"Completed\", \"run_properties\": null}, {\"run_id\": \"AutoML_580b1e1a-0ea0-4980-9412-3c88532c0271_0\", \"run_number\": 1656377779, \"metric\": null, \"status\": \"Completed\", \"run_type\": null, \"training_percent\": \"100\", \"start_time\": \"2022-06-28T00:56:35.50169Z\", \"end_time\": \"2022-06-28T00:56:47.689002Z\", \"created_time\": \"2022-06-28T00:56:19.605066Z\", \"created_time_dt\": \"2022-06-28T00:56:19.605066Z\", \"duration\": \"0:00:28\", \"iteration\": \"0\", \"goal\": \"accuracy_max\", \"run_name\": \"MaxAbsScaler, LightGBM\", \"run_properties\": \"copy=True\", \"primary_metric\": 0.80935123, \"best_metric\": 0.80935123}, {\"run_id\": \"AutoML_580b1e1a-0ea0-4980-9412-3c88532c0271_1\", \"run_number\": 1656377780, \"metric\": null, \"status\": \"Completed\", \"run_type\": null, \"training_percent\": \"100\", \"start_time\": \"2022-06-28T00:56:48.201123Z\", \"end_time\": \"2022-06-28T00:56:55.535134Z\", \"created_time\": \"2022-06-28T00:56:20.110238Z\", \"created_time_dt\": \"2022-06-28T00:56:20.110238Z\", \"duration\": \"0:00:35\", \"iteration\": \"1\", \"goal\": \"accuracy_max\", \"run_name\": \"MaxAbsScaler, XGBoostClassifier\", \"run_properties\": \"copy=True\", \"primary_metric\": 0.8160179, \"best_metric\": 0.8160179}, {\"run_id\": \"AutoML_580b1e1a-0ea0-4980-9412-3c88532c0271_4\", \"run_number\": 1656377781, \"metric\": null, \"status\": \"Completed\", \"run_type\": null, \"training_percent\": \"100\", \"start_time\": \"2022-06-28T00:56:38.147922Z\", \"end_time\": \"2022-06-28T00:56:47.076099Z\", \"created_time\": \"2022-06-28T00:56:21.442061Z\", \"created_time_dt\": \"2022-06-28T00:56:21.442061Z\", \"duration\": \"0:00:25\", \"iteration\": \"4\", \"goal\": \"accuracy_max\", \"run_name\": \"StandardScalerWrapper, KNN\", \"run_properties\": \"copy=True, with_mean=False, with_std=False\", \"primary_metric\": 0.63881432, \"best_metric\": 0.8160179}, {\"run_id\": \"AutoML_580b1e1a-0ea0-4980-9412-3c88532c0271_6\", \"run_number\": 1656377782, \"metric\": null, \"status\": \"Completed\", \"run_type\": null, \"training_percent\": \"100\", \"start_time\": \"2022-06-28T00:56:56.575515Z\", \"end_time\": \"2022-06-28T00:57:04.690542Z\", \"created_time\": \"2022-06-28T00:56:22.292024Z\", \"created_time_dt\": \"2022-06-28T00:56:22.292024Z\", \"duration\": \"0:00:42\", \"iteration\": \"6\", \"goal\": \"accuracy_max\", \"run_name\": \"RobustScaler, LogisticRegression\", \"run_properties\": \"copy=True, quantile_range=[10, 90], with_centering=True,\\n             with_scaling=True\", \"primary_metric\": 0.76914989, \"best_metric\": 0.8160179}, {\"run_id\": \"AutoML_580b1e1a-0ea0-4980-9412-3c88532c0271_8\", \"run_number\": 1656377783, \"metric\": null, \"status\": \"Completed\", \"run_type\": null, \"training_percent\": \"100\", \"start_time\": \"2022-06-28T00:57:38.705955Z\", \"end_time\": \"2022-06-28T00:57:46.092532Z\", \"created_time\": \"2022-06-28T00:56:23.137111Z\", \"created_time_dt\": \"2022-06-28T00:56:23.137111Z\", \"duration\": \"0:01:22\", \"iteration\": \"8\", \"goal\": \"accuracy_max\", \"run_name\": \"StandardScalerWrapper, KNN\", \"run_properties\": \"copy=True, with_mean=False, with_std=False\", \"primary_metric\": 0.64212528, \"best_metric\": 0.8160179}, {\"run_id\": \"AutoML_580b1e1a-0ea0-4980-9412-3c88532c0271_11\", \"run_number\": 1656377784, \"metric\": null, \"status\": \"Completed\", \"run_type\": null, \"training_percent\": \"100\", \"start_time\": \"2022-06-28T00:58:07.295782Z\", \"end_time\": \"2022-06-28T00:58:15.542072Z\", \"created_time\": \"2022-06-28T00:56:24.416542Z\", \"created_time_dt\": \"2022-06-28T00:56:24.416542Z\", \"duration\": \"0:01:51\", \"iteration\": \"11\", \"goal\": \"accuracy_max\", \"run_name\": \"MinMaxScaler, RandomForest\", \"run_properties\": \"copy=True, feature_range=(0, 1\", \"primary_metric\": 0.83599553, \"best_metric\": 0.83599553}, {\"run_id\": \"AutoML_580b1e1a-0ea0-4980-9412-3c88532c0271_13\", \"run_number\": 1656377785, \"metric\": null, \"status\": \"Completed\", \"run_type\": null, \"training_percent\": \"100\", \"start_time\": \"2022-06-28T00:58:22.296727Z\", \"end_time\": \"2022-06-28T00:58:32.17973Z\", \"created_time\": \"2022-06-28T00:56:25.279483Z\", \"created_time_dt\": \"2022-06-28T00:56:25.279483Z\", \"duration\": \"0:02:06\", \"iteration\": \"13\", \"goal\": \"accuracy_max\", \"run_name\": \"StandardScalerWrapper, KNN\", \"run_properties\": \"copy=True, with_mean=False, with_std=True\", \"primary_metric\": 0.70234899, \"best_metric\": 0.83599553}, {\"run_id\": \"AutoML_580b1e1a-0ea0-4980-9412-3c88532c0271_16\", \"run_number\": 1656377786, \"metric\": null, \"status\": \"Completed\", \"run_type\": null, \"training_percent\": \"100\", \"start_time\": \"2022-06-28T00:58:38.891363Z\", \"end_time\": \"2022-06-28T00:58:50.780218Z\", \"created_time\": \"2022-06-28T00:56:26.553882Z\", \"created_time_dt\": \"2022-06-28T00:56:26.553882Z\", \"duration\": \"0:02:24\", \"iteration\": \"16\", \"goal\": \"accuracy_max\", \"run_name\": \"SparseNormalizer, KNN\", \"run_properties\": \"copy=True, norm='max'\", \"primary_metric\": 0.73912752, \"best_metric\": 0.83599553}, {\"run_id\": \"AutoML_580b1e1a-0ea0-4980-9412-3c88532c0271_18\", \"run_number\": 1656377787, \"metric\": null, \"status\": \"Completed\", \"run_type\": null, \"training_percent\": \"100\", \"start_time\": \"2022-06-28T00:58:58.649684Z\", \"end_time\": \"2022-06-28T00:59:05.416491Z\", \"created_time\": \"2022-06-28T00:56:27.363438Z\", \"created_time_dt\": \"2022-06-28T00:56:27.363438Z\", \"duration\": \"0:02:38\", \"iteration\": \"18\", \"goal\": \"accuracy_max\", \"run_name\": \"StandardScalerWrapper, XGBoostClassifier\", \"run_properties\": \"copy=True, with_mean=False, with_std=False\", \"primary_metric\": 0.82939597, \"best_metric\": 0.83599553}, {\"run_id\": \"AutoML_580b1e1a-0ea0-4980-9412-3c88532c0271_worker_4\", \"run_number\": 1656377788, \"metric\": null, \"status\": \"Completed\", \"run_type\": \"azureml.scriptrun\", \"training_percent\": null, \"start_time\": \"2022-06-28T00:59:19.249399Z\", \"end_time\": \"2022-06-28T00:59:22.862462Z\", \"created_time\": \"2022-06-28T00:56:28.037442Z\", \"created_time_dt\": \"2022-06-28T00:56:28.037442Z\", \"duration\": \"0:02:54\", \"iteration\": null, \"goal\": null, \"run_name\": \"Completed\", \"run_properties\": null}, {\"run_id\": \"AutoML_580b1e1a-0ea0-4980-9412-3c88532c0271_20\", \"run_number\": 1656377934, \"metric\": null, \"status\": \"Completed\", \"run_type\": \"azureml.scriptrun\", \"training_percent\": \"100\", \"start_time\": \"2022-06-28T00:59:23.077184Z\", \"end_time\": \"2022-06-28T00:59:26.822798Z\", \"created_time\": \"2022-06-28T00:58:54.945014Z\", \"created_time_dt\": \"2022-06-28T00:58:54.945014Z\", \"duration\": \"0:00:31\", \"iteration\": \"20\", \"goal\": \"accuracy_max\", \"run_name\": \"MaxAbsScaler, LogisticRegression\", \"run_properties\": \"copy=True\", \"primary_metric\": 0.789217, \"best_metric\": 0.83599553}, {\"run_id\": \"AutoML_580b1e1a-0ea0-4980-9412-3c88532c0271_22\", \"run_number\": 1656377935, \"metric\": null, \"status\": \"Completed\", \"run_type\": \"azureml.scriptrun\", \"training_percent\": \"100\", \"start_time\": \"2022-06-28T01:00:15.10879Z\", \"end_time\": \"2022-06-28T01:00:18.744186Z\", \"created_time\": \"2022-06-28T00:58:54.973504Z\", \"created_time_dt\": \"2022-06-28T00:58:54.973504Z\", \"duration\": \"0:01:23\", \"iteration\": \"22\", \"goal\": \"accuracy_max\", \"run_name\": \"SparseNormalizer, RandomForest\", \"run_properties\": \"copy=True, norm='l2'\", \"primary_metric\": 0.76597315, \"best_metric\": 0.83599553}, {\"run_id\": \"AutoML_580b1e1a-0ea0-4980-9412-3c88532c0271_23\", \"run_number\": 1656377948, \"metric\": null, \"status\": \"Completed\", \"run_type\": \"azureml.scriptrun\", \"training_percent\": \"100\", \"start_time\": \"2022-06-28T01:00:44.795418Z\", \"end_time\": \"2022-06-28T01:00:48.387215Z\", \"created_time\": \"2022-06-28T00:59:08.134613Z\", \"created_time_dt\": \"2022-06-28T00:59:08.134613Z\", \"duration\": \"0:01:40\", \"iteration\": \"23\", \"goal\": \"accuracy_max\", \"run_name\": \"StandardScalerWrapper, RandomForest\", \"run_properties\": \"copy=True, with_mean=False, with_std=False\", \"primary_metric\": 0.82270694, \"best_metric\": 0.83599553}, {\"run_id\": \"AutoML_580b1e1a-0ea0-4980-9412-3c88532c0271_25\", \"run_number\": 1656377971, \"metric\": null, \"status\": \"Completed\", \"run_type\": \"azureml.scriptrun\", \"training_percent\": \"100\", \"start_time\": \"2022-06-28T01:01:17.83292Z\", \"end_time\": \"2022-06-28T01:01:21.433487Z\", \"created_time\": \"2022-06-28T00:59:31.130143Z\", \"created_time_dt\": \"2022-06-28T00:59:31.130143Z\", \"duration\": \"0:01:50\", \"iteration\": \"25\", \"goal\": \"accuracy_max\", \"run_name\": \"StandardScalerWrapper, XGBoostClassifier\", \"run_properties\": \"copy=True, with_mean=False, with_std=False\", \"primary_metric\": 0.82606264, \"best_metric\": 0.83599553}, {\"run_id\": \"AutoML_580b1e1a-0ea0-4980-9412-3c88532c0271_26\", \"run_number\": 1656377989, \"metric\": null, \"status\": \"Completed\", \"run_type\": \"azureml.scriptrun\", \"training_percent\": \"100\", \"start_time\": \"2022-06-28T01:02:14.439988Z\", \"end_time\": \"2022-06-28T01:02:18.022234Z\", \"created_time\": \"2022-06-28T00:59:48.988026Z\", \"created_time_dt\": \"2022-06-28T00:59:48.988026Z\", \"duration\": \"0:02:29\", \"iteration\": \"26\", \"goal\": \"accuracy_max\", \"run_name\": \"RobustScaler, RandomForest\", \"run_properties\": \"copy=True, quantile_range=[10, 90], with_centering=True,\\n             with_scaling=True\", \"primary_metric\": 0.85950783, \"best_metric\": 0.85950783}, {\"run_id\": \"AutoML_580b1e1a-0ea0-4980-9412-3c88532c0271_27\", \"run_number\": 1656378020, \"metric\": null, \"status\": \"Completed\", \"run_type\": \"azureml.scriptrun\", \"training_percent\": \"100\", \"start_time\": \"2022-06-28T01:02:57.494208Z\", \"end_time\": \"2022-06-28T01:03:01.086977Z\", \"created_time\": \"2022-06-28T01:00:20.481792Z\", \"created_time_dt\": \"2022-06-28T01:00:20.481792Z\", \"duration\": \"0:02:40\", \"iteration\": \"27\", \"goal\": \"accuracy_max\", \"run_name\": \"StandardScalerWrapper, XGBoostClassifier\", \"run_properties\": \"copy=True, with_mean=False, with_std=False\", \"primary_metric\": 0.80935123, \"best_metric\": 0.85950783}, {\"run_id\": \"AutoML_580b1e1a-0ea0-4980-9412-3c88532c0271_28\", \"run_number\": 1656378050, \"metric\": null, \"status\": \"Completed\", \"run_type\": \"azureml.scriptrun\", \"training_percent\": \"100\", \"start_time\": \"2022-06-28T01:03:22.809969Z\", \"end_time\": \"2022-06-28T01:03:26.563754Z\", \"created_time\": \"2022-06-28T01:00:50.063447Z\", \"created_time_dt\": \"2022-06-28T01:00:50.063447Z\", \"duration\": \"0:02:36\", \"iteration\": \"28\", \"goal\": \"accuracy_max\", \"run_name\": \"RobustScaler, LightGBM\", \"run_properties\": \"copy=True, quantile_range=[25, 75], with_centering=True,\\n             with_scaling=False\", \"primary_metric\": 0.81939597, \"best_metric\": 0.85950783}, {\"run_id\": \"AutoML_580b1e1a-0ea0-4980-9412-3c88532c0271_29\", \"run_number\": 1656378083, \"metric\": null, \"status\": \"Completed\", \"run_type\": \"azureml.scriptrun\", \"training_percent\": \"100\", \"start_time\": \"2022-06-28T01:03:43.714058Z\", \"end_time\": \"2022-06-28T01:03:47.279956Z\", \"created_time\": \"2022-06-28T01:01:23.197712Z\", \"created_time_dt\": \"2022-06-28T01:01:23.197712Z\", \"duration\": \"0:02:24\", \"iteration\": \"29\", \"goal\": \"accuracy_max\", \"run_name\": \"MinMaxScaler, LightGBM\", \"run_properties\": \"copy=True, feature_range=(0, 1\", \"primary_metric\": 0.84615213, \"best_metric\": 0.85950783}, {\"run_id\": \"AutoML_580b1e1a-0ea0-4980-9412-3c88532c0271_30\", \"run_number\": 1656378108, \"metric\": null, \"status\": \"Completed\", \"run_type\": \"azureml.scriptrun\", \"training_percent\": \"100\", \"start_time\": \"2022-06-28T01:04:15.243493Z\", \"end_time\": \"2022-06-28T01:04:18.803068Z\", \"created_time\": \"2022-06-28T01:01:48.644413Z\", \"created_time_dt\": \"2022-06-28T01:01:48.644413Z\", \"duration\": \"0:02:30\", \"iteration\": \"30\", \"goal\": \"accuracy_max\", \"run_name\": \"SparseNormalizer, XGBoostClassifier\", \"run_properties\": \"copy=True, norm='l2'\", \"primary_metric\": 0.81604027, \"best_metric\": 0.85950783}, {\"run_id\": \"AutoML_580b1e1a-0ea0-4980-9412-3c88532c0271_31\", \"run_number\": 1656378139, \"metric\": null, \"status\": \"Completed\", \"run_type\": \"azureml.scriptrun\", \"training_percent\": \"100\", \"start_time\": \"2022-06-28T01:04:53.037323Z\", \"end_time\": \"2022-06-28T01:04:56.654566Z\", \"created_time\": \"2022-06-28T01:02:19.801704Z\", \"created_time_dt\": \"2022-06-28T01:02:19.801704Z\", \"duration\": \"0:02:36\", \"iteration\": \"31\", \"goal\": \"accuracy_max\", \"run_name\": \"StandardScalerWrapper, GradientBoosting\", \"run_properties\": \"copy=True, with_mean=True, with_std=True\", \"primary_metric\": 0.82939597, \"best_metric\": 0.85950783}, {\"run_id\": \"AutoML_580b1e1a-0ea0-4980-9412-3c88532c0271_32\", \"run_number\": 1656378183, \"metric\": null, \"status\": \"Completed\", \"run_type\": \"azureml.scriptrun\", \"training_percent\": \"100\", \"start_time\": \"2022-06-28T01:05:19.905681Z\", \"end_time\": \"2022-06-28T01:05:23.467283Z\", \"created_time\": \"2022-06-28T01:03:03.317443Z\", \"created_time_dt\": \"2022-06-28T01:03:03.317443Z\", \"duration\": \"0:02:20\", \"iteration\": \"32\", \"goal\": \"accuracy_max\", \"run_name\": \"MinMaxScaler, RandomForest\", \"run_properties\": \"copy=True, feature_range=(0, 1\", \"primary_metric\": 0.84275168, \"best_metric\": 0.85950783}, {\"run_id\": \"AutoML_580b1e1a-0ea0-4980-9412-3c88532c0271_33\", \"run_number\": 1656378208, \"metric\": null, \"status\": \"Completed\", \"run_type\": \"azureml.scriptrun\", \"training_percent\": \"100\", \"start_time\": \"2022-06-28T01:05:47.165757Z\", \"end_time\": \"2022-06-28T01:05:50.690765Z\", \"created_time\": \"2022-06-28T01:03:28.466323Z\", \"created_time_dt\": \"2022-06-28T01:03:28.466323Z\", \"duration\": \"0:02:22\", \"iteration\": \"33\", \"goal\": \"accuracy_max\", \"run_name\": \"MaxAbsScaler, LightGBM\", \"run_properties\": \"copy=True\", \"primary_metric\": 0.84277405, \"best_metric\": 0.85950783}, {\"run_id\": \"AutoML_580b1e1a-0ea0-4980-9412-3c88532c0271_34\", \"run_number\": 1656378229, \"metric\": null, \"status\": \"Completed\", \"run_type\": \"azureml.scriptrun\", \"training_percent\": \"100\", \"start_time\": \"2022-06-28T01:06:18.417681Z\", \"end_time\": \"2022-06-28T01:06:22.002891Z\", \"created_time\": \"2022-06-28T01:03:49.41266Z\", \"created_time_dt\": \"2022-06-28T01:03:49.41266Z\", \"duration\": \"0:02:32\", \"iteration\": \"34\", \"goal\": \"accuracy_max\", \"run_name\": \"MinMaxScaler, LightGBM\", \"run_properties\": \"copy=True, feature_range=(0, 1\", \"primary_metric\": 0.80604027, \"best_metric\": 0.85950783}, {\"run_id\": \"AutoML_580b1e1a-0ea0-4980-9412-3c88532c0271_35\", \"run_number\": 1656378261, \"metric\": null, \"status\": \"Completed\", \"run_type\": \"azureml.scriptrun\", \"training_percent\": \"100\", \"start_time\": \"2022-06-28T01:06:48.251371Z\", \"end_time\": \"2022-06-28T01:06:51.865432Z\", \"created_time\": \"2022-06-28T01:04:21.595132Z\", \"created_time_dt\": \"2022-06-28T01:04:21.595132Z\", \"duration\": \"0:02:30\", \"iteration\": \"35\", \"goal\": \"accuracy_max\", \"run_name\": \"SparseNormalizer, RandomForest\", \"run_properties\": \"copy=True, norm='max'\", \"primary_metric\": 0.67894855, \"best_metric\": 0.85950783}, {\"run_id\": \"AutoML_580b1e1a-0ea0-4980-9412-3c88532c0271_36\", \"run_number\": 1656378298, \"metric\": null, \"status\": \"Completed\", \"run_type\": \"azureml.scriptrun\", \"training_percent\": \"100\", \"start_time\": \"2022-06-28T01:07:32.043865Z\", \"end_time\": \"2022-06-28T01:07:35.611699Z\", \"created_time\": \"2022-06-28T01:04:58.341533Z\", \"created_time_dt\": \"2022-06-28T01:04:58.341533Z\", \"duration\": \"0:02:37\", \"iteration\": \"36\", \"goal\": \"accuracy_max\", \"run_name\": \"MinMaxScaler, RandomForest\", \"run_properties\": \"copy=True, feature_range=(0, 1\", \"primary_metric\": 0.8293736, \"best_metric\": 0.85950783}, {\"run_id\": \"AutoML_580b1e1a-0ea0-4980-9412-3c88532c0271_37\", \"run_number\": 1656378325, \"metric\": null, \"status\": \"Completed\", \"run_type\": \"azureml.scriptrun\", \"training_percent\": \"100\", \"start_time\": \"2022-06-28T01:07:47.347228Z\", \"end_time\": \"2022-06-28T01:07:51.057223Z\", \"created_time\": \"2022-06-28T01:05:25.210753Z\", \"created_time_dt\": \"2022-06-28T01:05:25.210753Z\", \"duration\": \"0:02:25\", \"iteration\": \"37\", \"goal\": \"accuracy_max\", \"run_name\": \"SparseNormalizer, XGBoostClassifier\", \"run_properties\": \"copy=True, norm='l1'\", \"primary_metric\": 0.80597315, \"best_metric\": 0.85950783}, {\"run_id\": \"AutoML_580b1e1a-0ea0-4980-9412-3c88532c0271_38\", \"run_number\": 1656378352, \"metric\": null, \"status\": \"Completed\", \"run_type\": \"azureml.scriptrun\", \"training_percent\": \"100\", \"start_time\": \"2022-06-28T01:08:24.326668Z\", \"end_time\": \"2022-06-28T01:08:27.90779Z\", \"created_time\": \"2022-06-28T01:05:52.450518Z\", \"created_time_dt\": \"2022-06-28T01:05:52.450518Z\", \"duration\": \"0:02:35\", \"iteration\": \"38\", \"goal\": \"accuracy_max\", \"run_name\": \"StandardScalerWrapper, XGBoostClassifier\", \"run_properties\": \"copy=True, with_mean=False, with_std=False\", \"primary_metric\": 0.81266219, \"best_metric\": 0.85950783}, {\"run_id\": \"AutoML_580b1e1a-0ea0-4980-9412-3c88532c0271_39\", \"run_number\": 1656378383, \"metric\": null, \"status\": \"Completed\", \"run_type\": \"azureml.scriptrun\", \"training_percent\": \"100\", \"start_time\": \"2022-06-28T01:08:51.782903Z\", \"end_time\": \"2022-06-28T01:08:55.382975Z\", \"created_time\": \"2022-06-28T01:06:23.831069Z\", \"created_time_dt\": \"2022-06-28T01:06:23.831069Z\", \"duration\": \"0:02:31\", \"iteration\": \"39\", \"goal\": \"accuracy_max\", \"run_name\": \"StandardScalerWrapper, XGBoostClassifier\", \"run_properties\": \"copy=True, with_mean=False, with_std=False\", \"primary_metric\": 0.81597315, \"best_metric\": 0.85950783}, {\"run_id\": \"AutoML_580b1e1a-0ea0-4980-9412-3c88532c0271_40\", \"run_number\": 1656378414, \"metric\": null, \"status\": \"Completed\", \"run_type\": \"azureml.scriptrun\", \"training_percent\": \"100\", \"start_time\": \"2022-06-28T01:09:25.859444Z\", \"end_time\": \"2022-06-28T01:09:29.410973Z\", \"created_time\": \"2022-06-28T01:06:54.749286Z\", \"created_time_dt\": \"2022-06-28T01:06:54.749286Z\", \"duration\": \"0:02:34\", \"iteration\": \"40\", \"goal\": \"accuracy_max\", \"run_name\": \"SparseNormalizer, RandomForest\", \"run_properties\": \"copy=True, norm='l2'\", \"primary_metric\": 0.78270694, \"best_metric\": 0.85950783}, {\"run_id\": \"AutoML_580b1e1a-0ea0-4980-9412-3c88532c0271_41\", \"run_number\": 1656378457, \"metric\": null, \"status\": \"Canceled\", \"run_type\": \"azureml.scriptrun\", \"training_percent\": \"100\", \"start_time\": \"2022-06-28T01:09:30.005058Z\", \"end_time\": \"2022-06-28T01:09:30.194226Z\", \"created_time\": \"2022-06-28T01:07:37.313692Z\", \"created_time_dt\": \"2022-06-28T01:07:37.313692Z\", \"duration\": \"0:01:52\", \"iteration\": \"41\", \"goal\": null, \"run_name\": \"Canceled\", \"run_properties\": null}, {\"run_id\": \"AutoML_580b1e1a-0ea0-4980-9412-3c88532c0271_42\", \"run_number\": 1656378472, \"metric\": null, \"status\": \"Canceled\", \"run_type\": \"azureml.scriptrun\", \"training_percent\": \"100\", \"start_time\": \"2022-06-28T01:09:30.031624Z\", \"end_time\": \"2022-06-28T01:09:30.224783Z\", \"created_time\": \"2022-06-28T01:07:52.814136Z\", \"created_time_dt\": \"2022-06-28T01:07:52.814136Z\", \"duration\": \"0:01:37\", \"iteration\": \"42\", \"goal\": null, \"run_name\": \"Canceled\", \"run_properties\": null}, {\"run_id\": \"AutoML_580b1e1a-0ea0-4980-9412-3c88532c0271_43\", \"run_number\": 1656378509, \"metric\": null, \"status\": \"Canceled\", \"run_type\": \"azureml.scriptrun\", \"training_percent\": \"100\", \"start_time\": \"2022-06-28T01:09:30.049385Z\", \"end_time\": \"2022-06-28T01:09:30.243538Z\", \"created_time\": \"2022-06-28T01:08:29.633823Z\", \"created_time_dt\": \"2022-06-28T01:08:29.633823Z\", \"duration\": \"0:01:00\", \"iteration\": \"43\", \"goal\": null, \"run_name\": \"Canceled\", \"run_properties\": null}, {\"run_id\": \"AutoML_580b1e1a-0ea0-4980-9412-3c88532c0271_44\", \"run_number\": 1656378537, \"metric\": null, \"status\": \"Canceled\", \"run_type\": \"azureml.scriptrun\", \"training_percent\": \"100\", \"start_time\": \"2022-06-28T01:09:30.020187Z\", \"end_time\": \"2022-06-28T01:09:30.167237Z\", \"created_time\": \"2022-06-28T01:08:57.942568Z\", \"created_time_dt\": \"2022-06-28T01:08:57.942568Z\", \"duration\": \"0:00:32\", \"iteration\": \"44\", \"goal\": null, \"run_name\": \"Canceled\", \"run_properties\": null}, {\"run_id\": \"AutoML_580b1e1a-0ea0-4980-9412-3c88532c0271_46\", \"run_number\": 1656378571, \"metric\": null, \"status\": \"Completed\", \"run_type\": \"azureml.scriptrun\", \"training_percent\": \"100\", \"start_time\": \"2022-06-28T01:10:10.968717Z\", \"end_time\": \"2022-06-28T01:10:14.527885Z\", \"created_time\": \"2022-06-28T01:09:31.075987Z\", \"created_time_dt\": \"2022-06-28T01:09:31.075987Z\", \"duration\": \"0:00:43\", \"iteration\": \"46\", \"goal\": \"accuracy_max\", \"run_name\": \"StackEnsemble\", \"run_properties\": \"base_learners=[('26', Pipeline(memory=None, steps=[('robustscaler', RobustScaler(copy=True, quantile_range=[10, 90], with_centering=True, with_scaling=True\", \"primary_metric\": 0.83275168, \"best_metric\": 0.85950783}], \"children_metrics\": {\"categories\": [0], \"series\": {\"AUC_macro\": [{\"categories\": [\"0\", \"1\", \"4\", \"6\", \"8\", \"11\", \"13\", \"16\", \"18\", \"20\", \"22\", \"23\", \"25\", \"26\", \"27\", \"28\", \"29\", \"30\", \"31\", \"32\", \"33\", \"34\", \"35\", \"36\", \"37\", \"38\", \"39\", \"40\", \"46\"], \"mode\": \"markers\", \"name\": \"AUC_macro\", \"stepped\": false, \"type\": \"scatter\", \"data\": [0.8694235857393305, 0.8713170332384058, 0.5367003131566508, 0.8477216249887358, 0.5295690321631075, 0.9107403863167344, 0.7984717164725591, 0.7032437053186559, 0.877203051011852, 0.8493838445426622, 0.8445175837345682, 0.8692579201472037, 0.8962696938897742, 0.8806344636021672, 0.8866127660248848, 0.8847158201810322, 0.8808950902880638, 0.8547773122309805, 0.885752257507174, 0.8918249309414096, 0.8968793753018376, 0.889709011896311, 0.8469550343836714, 0.8956377263355311, 0.8574270871188163, 0.8758701711145802, 0.8917062927972959, 0.8283535238405453, 0.902123394122764]}, {\"categories\": [\"0\", \"1\", \"4\", \"6\", \"8\", \"11\", \"13\", \"16\", \"18\", \"20\", \"22\", \"23\", \"25\", \"26\", \"27\", \"28\", \"29\", \"30\", \"31\", \"32\", \"33\", \"34\", \"35\", \"36\", \"37\", \"38\", \"39\", \"40\", \"46\"], \"mode\": \"lines\", \"name\": \"AUC_macro_max\", \"stepped\": true, \"type\": \"scatter\", \"data\": [0.8694235857393305, 0.8713170332384058, 0.8713170332384058, 0.8713170332384058, 0.8713170332384058, 0.9107403863167344, 0.9107403863167344, 0.9107403863167344, 0.9107403863167344, 0.9107403863167344, 0.9107403863167344, 0.9107403863167344, 0.9107403863167344, 0.9107403863167344, 0.9107403863167344, 0.9107403863167344, 0.9107403863167344, 0.9107403863167344, 0.9107403863167344, 0.9107403863167344, 0.9107403863167344, 0.9107403863167344, 0.9107403863167344, 0.9107403863167344, 0.9107403863167344, 0.9107403863167344, 0.9107403863167344, 0.9107403863167344, 0.9107403863167344]}], \"balanced_accuracy\": [{\"categories\": [\"0\", \"1\", \"4\", \"6\", \"8\", \"11\", \"13\", \"16\", \"18\", \"20\", \"22\", \"23\", \"25\", \"26\", \"27\", \"28\", \"29\", \"30\", \"31\", \"32\", \"33\", \"34\", \"35\", \"36\", \"37\", \"38\", \"39\", \"40\", \"46\"], \"mode\": \"markers\", \"name\": \"balanced_accuracy\", \"stepped\": false, \"type\": \"scatter\", \"data\": [0.7561758640679782, 0.7635117771566178, 0.5394917183220455, 0.7787727477761697, 0.5281331407642054, 0.822588599374867, 0.5389924033653908, 0.6296529144626041, 0.7786178195735847, 0.7495917368421985, 0.7219021377246917, 0.7576894566547917, 0.7737571540096975, 0.8258631027721811, 0.7480541089408167, 0.7774111645922325, 0.7966333257549914, 0.7771042269867712, 0.7845955319140506, 0.8166934774752538, 0.8051965361666048, 0.7374328391563072, 0.5, 0.7987192665142737, 0.7563759440999909, 0.7639289653084743, 0.7439658821185943, 0.6952580905966768, 0.7930242246466734]}, {\"categories\": [\"0\", \"1\", \"4\", \"6\", \"8\", \"11\", \"13\", \"16\", \"18\", \"20\", \"22\", \"23\", \"25\", \"26\", \"27\", \"28\", \"29\", \"30\", \"31\", \"32\", \"33\", \"34\", \"35\", \"36\", \"37\", \"38\", \"39\", \"40\", \"46\"], \"mode\": \"lines\", \"name\": \"balanced_accuracy_max\", \"stepped\": true, \"type\": \"scatter\", \"data\": [0.7561758640679782, 0.7635117771566178, 0.7635117771566178, 0.7787727477761697, 0.7787727477761697, 0.822588599374867, 0.822588599374867, 0.822588599374867, 0.822588599374867, 0.822588599374867, 0.822588599374867, 0.822588599374867, 0.822588599374867, 0.8258631027721811, 0.8258631027721811, 0.8258631027721811, 0.8258631027721811, 0.8258631027721811, 0.8258631027721811, 0.8258631027721811, 0.8258631027721811, 0.8258631027721811, 0.8258631027721811, 0.8258631027721811, 0.8258631027721811, 0.8258631027721811, 0.8258631027721811, 0.8258631027721811, 0.8258631027721811]}], \"precision_score_micro\": [{\"categories\": [\"0\", \"1\", \"4\", \"6\", \"8\", \"11\", \"13\", \"16\", \"18\", \"20\", \"22\", \"23\", \"25\", \"26\", \"27\", \"28\", \"29\", \"30\", \"31\", \"32\", \"33\", \"34\", \"35\", \"36\", \"37\", \"38\", \"39\", \"40\", \"46\"], \"mode\": \"markers\", \"name\": \"precision_score_micro\", \"stepped\": false, \"type\": \"scatter\", \"data\": [0.8093512304250559, 0.8160178970917226, 0.638814317673378, 0.7691498881431768, 0.6421252796420581, 0.8359955257270693, 0.7023489932885906, 0.7391275167785235, 0.8293959731543624, 0.7892170022371365, 0.7659731543624161, 0.8227069351230425, 0.8260626398210291, 0.8595078299776286, 0.8093512304250559, 0.8193959731543624, 0.846152125279642, 0.8160402684563759, 0.8293959731543624, 0.842751677852349, 0.8427740492170023, 0.8060402684563759, 0.6789485458612976, 0.8293736017897092, 0.805973154362416, 0.812662192393736, 0.815973154362416, 0.7827069351230425, 0.8327516778523489]}, {\"categories\": [\"0\", \"1\", \"4\", \"6\", \"8\", \"11\", \"13\", \"16\", \"18\", \"20\", \"22\", \"23\", \"25\", \"26\", \"27\", \"28\", \"29\", \"30\", \"31\", \"32\", \"33\", \"34\", \"35\", \"36\", \"37\", \"38\", \"39\", \"40\", \"46\"], \"mode\": \"lines\", \"name\": \"precision_score_micro_max\", \"stepped\": true, \"type\": \"scatter\", \"data\": [0.8093512304250559, 0.8160178970917226, 0.8160178970917226, 0.8160178970917226, 0.8160178970917226, 0.8359955257270693, 0.8359955257270693, 0.8359955257270693, 0.8359955257270693, 0.8359955257270693, 0.8359955257270693, 0.8359955257270693, 0.8359955257270693, 0.8595078299776286, 0.8595078299776286, 0.8595078299776286, 0.8595078299776286, 0.8595078299776286, 0.8595078299776286, 0.8595078299776286, 0.8595078299776286, 0.8595078299776286, 0.8595078299776286, 0.8595078299776286, 0.8595078299776286, 0.8595078299776286, 0.8595078299776286, 0.8595078299776286, 0.8595078299776286]}], \"recall_score_micro\": [{\"categories\": [\"0\", \"1\", \"4\", \"6\", \"8\", \"11\", \"13\", \"16\", \"18\", \"20\", \"22\", \"23\", \"25\", \"26\", \"27\", \"28\", \"29\", \"30\", \"31\", \"32\", \"33\", \"34\", \"35\", \"36\", \"37\", \"38\", \"39\", \"40\", \"46\"], \"mode\": \"markers\", \"name\": \"recall_score_micro\", \"stepped\": false, \"type\": \"scatter\", \"data\": [0.8093512304250559, 0.8160178970917226, 0.638814317673378, 0.7691498881431768, 0.6421252796420581, 0.8359955257270693, 0.7023489932885906, 0.7391275167785235, 0.8293959731543624, 0.7892170022371365, 0.7659731543624161, 0.8227069351230425, 0.8260626398210291, 0.8595078299776286, 0.8093512304250559, 0.8193959731543624, 0.846152125279642, 0.8160402684563759, 0.8293959731543624, 0.842751677852349, 0.8427740492170023, 0.8060402684563759, 0.6789485458612976, 0.8293736017897092, 0.805973154362416, 0.812662192393736, 0.815973154362416, 0.7827069351230425, 0.8327516778523489]}, {\"categories\": [\"0\", \"1\", \"4\", \"6\", \"8\", \"11\", \"13\", \"16\", \"18\", \"20\", \"22\", \"23\", \"25\", \"26\", \"27\", \"28\", \"29\", \"30\", \"31\", \"32\", \"33\", \"34\", \"35\", \"36\", \"37\", \"38\", \"39\", \"40\", \"46\"], \"mode\": \"lines\", \"name\": \"recall_score_micro_max\", \"stepped\": true, \"type\": \"scatter\", \"data\": [0.8093512304250559, 0.8160178970917226, 0.8160178970917226, 0.8160178970917226, 0.8160178970917226, 0.8359955257270693, 0.8359955257270693, 0.8359955257270693, 0.8359955257270693, 0.8359955257270693, 0.8359955257270693, 0.8359955257270693, 0.8359955257270693, 0.8595078299776286, 0.8595078299776286, 0.8595078299776286, 0.8595078299776286, 0.8595078299776286, 0.8595078299776286, 0.8595078299776286, 0.8595078299776286, 0.8595078299776286, 0.8595078299776286, 0.8595078299776286, 0.8595078299776286, 0.8595078299776286, 0.8595078299776286, 0.8595078299776286, 0.8595078299776286]}], \"f1_score_weighted\": [{\"categories\": [\"0\", \"1\", \"4\", \"6\", \"8\", \"11\", \"13\", \"16\", \"18\", \"20\", \"22\", \"23\", \"25\", \"26\", \"27\", \"28\", \"29\", \"30\", \"31\", \"32\", \"33\", \"34\", \"35\", \"36\", \"37\", \"38\", \"39\", \"40\", \"46\"], \"mode\": \"markers\", \"name\": \"f1_score_weighted\", \"stepped\": false, \"type\": \"scatter\", \"data\": [0.802383565695662, 0.8098441243966359, 0.613501877098201, 0.7748479365634214, 0.6048360014913586, 0.8371816486215566, 0.6050075251813414, 0.7054012974014677, 0.8238606223718483, 0.7864472845286626, 0.7612822810763009, 0.8123275258174587, 0.8197152605854832, 0.8571293689365012, 0.7995268755517668, 0.8150989858567934, 0.8406293927513694, 0.813409137938244, 0.8247805755935846, 0.8414609785215401, 0.8399487529427465, 0.7932728959663687, 0.5491321514835512, 0.8271913127517829, 0.8003131465590572, 0.8073873359754471, 0.8040905850948621, 0.7621595187426657, 0.8283199105145413]}, {\"categories\": [\"0\", \"1\", \"4\", \"6\", \"8\", \"11\", \"13\", \"16\", \"18\", \"20\", \"22\", \"23\", \"25\", \"26\", \"27\", \"28\", \"29\", \"30\", \"31\", \"32\", \"33\", \"34\", \"35\", \"36\", \"37\", \"38\", \"39\", \"40\", \"46\"], \"mode\": \"lines\", \"name\": \"f1_score_weighted_max\", \"stepped\": true, \"type\": \"scatter\", \"data\": [0.802383565695662, 0.8098441243966359, 0.8098441243966359, 0.8098441243966359, 0.8098441243966359, 0.8371816486215566, 0.8371816486215566, 0.8371816486215566, 0.8371816486215566, 0.8371816486215566, 0.8371816486215566, 0.8371816486215566, 0.8371816486215566, 0.8571293689365012, 0.8571293689365012, 0.8571293689365012, 0.8571293689365012, 0.8571293689365012, 0.8571293689365012, 0.8571293689365012, 0.8571293689365012, 0.8571293689365012, 0.8571293689365012, 0.8571293689365012, 0.8571293689365012, 0.8571293689365012, 0.8571293689365012, 0.8571293689365012, 0.8571293689365012]}], \"weighted_accuracy\": [{\"categories\": [\"0\", \"1\", \"4\", \"6\", \"8\", \"11\", \"13\", \"16\", \"18\", \"20\", \"22\", \"23\", \"25\", \"26\", \"27\", \"28\", \"29\", \"30\", \"31\", \"32\", \"33\", \"34\", \"35\", \"36\", \"37\", \"38\", \"39\", \"40\", \"46\"], \"mode\": \"markers\", \"name\": \"weighted_accuracy\", \"stepped\": false, \"type\": \"scatter\", \"data\": [0.8506927560537553, 0.8567613179334612, 0.7156456026348975, 0.7620255722737176, 0.7302839559394343, 0.8467042100654332, 0.8284718114598575, 0.8237574321468317, 0.868736484110321, 0.8201254533009847, 0.8003544702438126, 0.8731818495068979, 0.8666752226591183, 0.8857116872172592, 0.8569993753846594, 0.8521197512717065, 0.8845569931331319, 0.8462473906571782, 0.8642587781569672, 0.8632331820642927, 0.8719904895799739, 0.8593348410955346, 0.8171689614505722, 0.8534383060642348, 0.844549997431252, 0.8505375805196818, 0.8717168043546237, 0.8504378472882244, 0.863824519440591]}, {\"categories\": [\"0\", \"1\", \"4\", \"6\", \"8\", \"11\", \"13\", \"16\", \"18\", \"20\", \"22\", \"23\", \"25\", \"26\", \"27\", \"28\", \"29\", \"30\", \"31\", \"32\", \"33\", \"34\", \"35\", \"36\", \"37\", \"38\", \"39\", \"40\", \"46\"], \"mode\": \"lines\", \"name\": \"weighted_accuracy_max\", \"stepped\": true, \"type\": \"scatter\", \"data\": [0.8506927560537553, 0.8567613179334612, 0.8567613179334612, 0.8567613179334612, 0.8567613179334612, 0.8567613179334612, 0.8567613179334612, 0.8567613179334612, 0.868736484110321, 0.868736484110321, 0.868736484110321, 0.8731818495068979, 0.8731818495068979, 0.8857116872172592, 0.8857116872172592, 0.8857116872172592, 0.8857116872172592, 0.8857116872172592, 0.8857116872172592, 0.8857116872172592, 0.8857116872172592, 0.8857116872172592, 0.8857116872172592, 0.8857116872172592, 0.8857116872172592, 0.8857116872172592, 0.8857116872172592, 0.8857116872172592, 0.8857116872172592]}], \"recall_score_weighted\": [{\"categories\": [\"0\", \"1\", \"4\", \"6\", \"8\", \"11\", \"13\", \"16\", \"18\", \"20\", \"22\", \"23\", \"25\", \"26\", \"27\", \"28\", \"29\", \"30\", \"31\", \"32\", \"33\", \"34\", \"35\", \"36\", \"37\", \"38\", \"39\", \"40\", \"46\"], \"mode\": \"markers\", \"name\": \"recall_score_weighted\", \"stepped\": false, \"type\": \"scatter\", \"data\": [0.8093512304250559, 0.8160178970917226, 0.638814317673378, 0.7691498881431768, 0.6421252796420581, 0.8359955257270693, 0.7023489932885906, 0.7391275167785235, 0.8293959731543624, 0.7892170022371365, 0.7659731543624161, 0.8227069351230425, 0.8260626398210291, 0.8595078299776286, 0.8093512304250559, 0.8193959731543624, 0.846152125279642, 0.8160402684563759, 0.8293959731543624, 0.842751677852349, 0.8427740492170023, 0.8060402684563759, 0.6789485458612976, 0.8293736017897092, 0.805973154362416, 0.812662192393736, 0.815973154362416, 0.7827069351230425, 0.8327516778523489]}, {\"categories\": [\"0\", \"1\", \"4\", \"6\", \"8\", \"11\", \"13\", \"16\", \"18\", \"20\", \"22\", \"23\", \"25\", \"26\", \"27\", \"28\", \"29\", \"30\", \"31\", \"32\", \"33\", \"34\", \"35\", \"36\", \"37\", \"38\", \"39\", \"40\", \"46\"], \"mode\": \"lines\", \"name\": \"recall_score_weighted_max\", \"stepped\": true, \"type\": \"scatter\", \"data\": [0.8093512304250559, 0.8160178970917226, 0.8160178970917226, 0.8160178970917226, 0.8160178970917226, 0.8359955257270693, 0.8359955257270693, 0.8359955257270693, 0.8359955257270693, 0.8359955257270693, 0.8359955257270693, 0.8359955257270693, 0.8359955257270693, 0.8595078299776286, 0.8595078299776286, 0.8595078299776286, 0.8595078299776286, 0.8595078299776286, 0.8595078299776286, 0.8595078299776286, 0.8595078299776286, 0.8595078299776286, 0.8595078299776286, 0.8595078299776286, 0.8595078299776286, 0.8595078299776286, 0.8595078299776286, 0.8595078299776286, 0.8595078299776286]}], \"f1_score_micro\": [{\"categories\": [\"0\", \"1\", \"4\", \"6\", \"8\", \"11\", \"13\", \"16\", \"18\", \"20\", \"22\", \"23\", \"25\", \"26\", \"27\", \"28\", \"29\", \"30\", \"31\", \"32\", \"33\", \"34\", \"35\", \"36\", \"37\", \"38\", \"39\", \"40\", \"46\"], \"mode\": \"markers\", \"name\": \"f1_score_micro\", \"stepped\": false, \"type\": \"scatter\", \"data\": [0.8093512304250559, 0.8160178970917226, 0.638814317673378, 0.7691498881431768, 0.6421252796420581, 0.8359955257270693, 0.7023489932885906, 0.7391275167785235, 0.8293959731543623, 0.7892170022371365, 0.7659731543624161, 0.8227069351230425, 0.8260626398210291, 0.8595078299776286, 0.8093512304250559, 0.8193959731543624, 0.846152125279642, 0.8160402684563759, 0.8293959731543623, 0.842751677852349, 0.8427740492170024, 0.8060402684563759, 0.6789485458612976, 0.8293736017897092, 0.805973154362416, 0.812662192393736, 0.815973154362416, 0.7827069351230425, 0.8327516778523489]}, {\"categories\": [\"0\", \"1\", \"4\", \"6\", \"8\", \"11\", \"13\", \"16\", \"18\", \"20\", \"22\", \"23\", \"25\", \"26\", \"27\", \"28\", \"29\", \"30\", \"31\", \"32\", \"33\", \"34\", \"35\", \"36\", \"37\", \"38\", \"39\", \"40\", \"46\"], \"mode\": \"lines\", \"name\": \"f1_score_micro_max\", \"stepped\": true, \"type\": \"scatter\", \"data\": [0.8093512304250559, 0.8160178970917226, 0.8160178970917226, 0.8160178970917226, 0.8160178970917226, 0.8359955257270693, 0.8359955257270693, 0.8359955257270693, 0.8359955257270693, 0.8359955257270693, 0.8359955257270693, 0.8359955257270693, 0.8359955257270693, 0.8595078299776286, 0.8595078299776286, 0.8595078299776286, 0.8595078299776286, 0.8595078299776286, 0.8595078299776286, 0.8595078299776286, 0.8595078299776286, 0.8595078299776286, 0.8595078299776286, 0.8595078299776286, 0.8595078299776286, 0.8595078299776286, 0.8595078299776286, 0.8595078299776286, 0.8595078299776286]}], \"recall_score_macro\": [{\"categories\": [\"0\", \"1\", \"4\", \"6\", \"8\", \"11\", \"13\", \"16\", \"18\", \"20\", \"22\", \"23\", \"25\", \"26\", \"27\", \"28\", \"29\", \"30\", \"31\", \"32\", \"33\", \"34\", \"35\", \"36\", \"37\", \"38\", \"39\", \"40\", \"46\"], \"mode\": \"markers\", \"name\": \"recall_score_macro\", \"stepped\": false, \"type\": \"scatter\", \"data\": [0.7561758640679782, 0.7635117771566178, 0.5394917183220455, 0.7787727477761697, 0.5281331407642054, 0.822588599374867, 0.5389924033653908, 0.6296529144626041, 0.7786178195735847, 0.7495917368421985, 0.7219021377246917, 0.7576894566547917, 0.7737571540096975, 0.8258631027721811, 0.7480541089408167, 0.7774111645922325, 0.7966333257549914, 0.7771042269867712, 0.7845955319140506, 0.8166934774752538, 0.8051965361666048, 0.7374328391563072, 0.5, 0.7987192665142737, 0.7563759440999909, 0.7639289653084743, 0.7439658821185943, 0.6952580905966768, 0.7930242246466734]}, {\"categories\": [\"0\", \"1\", \"4\", \"6\", \"8\", \"11\", \"13\", \"16\", \"18\", \"20\", \"22\", \"23\", \"25\", \"26\", \"27\", \"28\", \"29\", \"30\", \"31\", \"32\", \"33\", \"34\", \"35\", \"36\", \"37\", \"38\", \"39\", \"40\", \"46\"], \"mode\": \"lines\", \"name\": \"recall_score_macro_max\", \"stepped\": true, \"type\": \"scatter\", \"data\": [0.7561758640679782, 0.7635117771566178, 0.7635117771566178, 0.7787727477761697, 0.7787727477761697, 0.822588599374867, 0.822588599374867, 0.822588599374867, 0.822588599374867, 0.822588599374867, 0.822588599374867, 0.822588599374867, 0.822588599374867, 0.8258631027721811, 0.8258631027721811, 0.8258631027721811, 0.8258631027721811, 0.8258631027721811, 0.8258631027721811, 0.8258631027721811, 0.8258631027721811, 0.8258631027721811, 0.8258631027721811, 0.8258631027721811, 0.8258631027721811, 0.8258631027721811, 0.8258631027721811, 0.8258631027721811, 0.8258631027721811]}], \"AUC_weighted\": [{\"categories\": [\"0\", \"1\", \"4\", \"6\", \"8\", \"11\", \"13\", \"16\", \"18\", \"20\", \"22\", \"23\", \"25\", \"26\", \"27\", \"28\", \"29\", \"30\", \"31\", \"32\", \"33\", \"34\", \"35\", \"36\", \"37\", \"38\", \"39\", \"40\", \"46\"], \"mode\": \"markers\", \"name\": \"AUC_weighted\", \"stepped\": false, \"type\": \"scatter\", \"data\": [0.8694235857393304, 0.8713170332384059, 0.5367003131566508, 0.8477216249887358, 0.5295690321631075, 0.9107403863167344, 0.7984717164725592, 0.7032437053186558, 0.8772030510118519, 0.8493838445426622, 0.8445175837345682, 0.8692579201472037, 0.8962696938897743, 0.8806344636021672, 0.8866127660248848, 0.8847158201810321, 0.8808950902880638, 0.8547773122309805, 0.8857522575071739, 0.8918249309414096, 0.8968793753018376, 0.889709011896311, 0.8469550343836713, 0.895637726335531, 0.8574270871188163, 0.8758701711145802, 0.8917062927972959, 0.8283535238405453, 0.9021233941227639]}, {\"categories\": [\"0\", \"1\", \"4\", \"6\", \"8\", \"11\", \"13\", \"16\", \"18\", \"20\", \"22\", \"23\", \"25\", \"26\", \"27\", \"28\", \"29\", \"30\", \"31\", \"32\", \"33\", \"34\", \"35\", \"36\", \"37\", \"38\", \"39\", \"40\", \"46\"], \"mode\": \"lines\", \"name\": \"AUC_weighted_max\", \"stepped\": true, \"type\": \"scatter\", \"data\": [0.8694235857393304, 0.8713170332384059, 0.8713170332384059, 0.8713170332384059, 0.8713170332384059, 0.9107403863167344, 0.9107403863167344, 0.9107403863167344, 0.9107403863167344, 0.9107403863167344, 0.9107403863167344, 0.9107403863167344, 0.9107403863167344, 0.9107403863167344, 0.9107403863167344, 0.9107403863167344, 0.9107403863167344, 0.9107403863167344, 0.9107403863167344, 0.9107403863167344, 0.9107403863167344, 0.9107403863167344, 0.9107403863167344, 0.9107403863167344, 0.9107403863167344, 0.9107403863167344, 0.9107403863167344, 0.9107403863167344, 0.9107403863167344]}], \"norm_macro_recall\": [{\"categories\": [\"0\", \"1\", \"4\", \"6\", \"8\", \"11\", \"13\", \"16\", \"18\", \"20\", \"22\", \"23\", \"25\", \"26\", \"27\", \"28\", \"29\", \"30\", \"31\", \"32\", \"33\", \"34\", \"35\", \"36\", \"37\", \"38\", \"39\", \"40\", \"46\"], \"mode\": \"markers\", \"name\": \"norm_macro_recall\", \"stepped\": false, \"type\": \"scatter\", \"data\": [0.5123517281359564, 0.5270235543132357, 0.07898343664409091, 0.5575454955523393, 0.056266281528410844, 0.6451771987497338, 0.07798480673078156, 0.25930582892520815, 0.5572356391471692, 0.49918347368439697, 0.4438042754493835, 0.5153789133095834, 0.5475143080193948, 0.6517262055443622, 0.4961082178816334, 0.554822329184465, 0.5932666515099826, 0.5542084539735422, 0.5691910638281013, 0.6333869549505076, 0.6103930723332096, 0.4748656783126144, 0.0, 0.5974385330285473, 0.5127518881999819, 0.5278579306169486, 0.48793176423718854, 0.39051618119335363, 0.586048449293347]}, {\"categories\": [\"0\", \"1\", \"4\", \"6\", \"8\", \"11\", \"13\", \"16\", \"18\", \"20\", \"22\", \"23\", \"25\", \"26\", \"27\", \"28\", \"29\", \"30\", \"31\", \"32\", \"33\", \"34\", \"35\", \"36\", \"37\", \"38\", \"39\", \"40\", \"46\"], \"mode\": \"lines\", \"name\": \"norm_macro_recall_max\", \"stepped\": true, \"type\": \"scatter\", \"data\": [0.5123517281359564, 0.5270235543132357, 0.5270235543132357, 0.5575454955523393, 0.5575454955523393, 0.6451771987497338, 0.6451771987497338, 0.6451771987497338, 0.6451771987497338, 0.6451771987497338, 0.6451771987497338, 0.6451771987497338, 0.6451771987497338, 0.6517262055443622, 0.6517262055443622, 0.6517262055443622, 0.6517262055443622, 0.6517262055443622, 0.6517262055443622, 0.6517262055443622, 0.6517262055443622, 0.6517262055443622, 0.6517262055443622, 0.6517262055443622, 0.6517262055443622, 0.6517262055443622, 0.6517262055443622, 0.6517262055443622, 0.6517262055443622]}], \"average_precision_score_macro\": [{\"categories\": [\"0\", \"1\", \"4\", \"6\", \"8\", \"11\", \"13\", \"16\", \"18\", \"20\", \"22\", \"23\", \"25\", \"26\", \"27\", \"28\", \"29\", \"30\", \"31\", \"32\", \"33\", \"34\", \"35\", \"36\", \"37\", \"38\", \"39\", \"40\", \"46\"], \"mode\": \"markers\", \"name\": \"average_precision_score_macro\", \"stepped\": false, \"type\": \"scatter\", \"data\": [0.8497704004643537, 0.853016972131458, 0.5660408979981801, 0.8233240571660283, 0.5611862438579578, 0.8941273134289033, 0.7705999403807953, 0.6969059097809278, 0.8583169284511714, 0.8298389443145302, 0.8191598660326396, 0.8552525188509884, 0.8778345271274448, 0.8535003017148721, 0.8651592918631006, 0.8685856330974091, 0.8575495597959003, 0.8310949082119024, 0.8710464066917273, 0.8834605156698805, 0.879463409353096, 0.8749060808631454, 0.7984209995157328, 0.8830069942036973, 0.8462712376421228, 0.8569049736708597, 0.8760874354640793, 0.8097834132284683, 0.8844189927289143]}, {\"categories\": [\"0\", \"1\", \"4\", \"6\", \"8\", \"11\", \"13\", \"16\", \"18\", \"20\", \"22\", \"23\", \"25\", \"26\", \"27\", \"28\", \"29\", \"30\", \"31\", \"32\", \"33\", \"34\", \"35\", \"36\", \"37\", \"38\", \"39\", \"40\", \"46\"], \"mode\": \"lines\", \"name\": \"average_precision_score_macro_max\", \"stepped\": true, \"type\": \"scatter\", \"data\": [0.8497704004643537, 0.853016972131458, 0.853016972131458, 0.853016972131458, 0.853016972131458, 0.8941273134289033, 0.8941273134289033, 0.8941273134289033, 0.8941273134289033, 0.8941273134289033, 0.8941273134289033, 0.8941273134289033, 0.8941273134289033, 0.8941273134289033, 0.8941273134289033, 0.8941273134289033, 0.8941273134289033, 0.8941273134289033, 0.8941273134289033, 0.8941273134289033, 0.8941273134289033, 0.8941273134289033, 0.8941273134289033, 0.8941273134289033, 0.8941273134289033, 0.8941273134289033, 0.8941273134289033, 0.8941273134289033, 0.8941273134289033]}], \"matthews_correlation\": [{\"categories\": [\"0\", \"1\", \"4\", \"6\", \"8\", \"11\", \"13\", \"16\", \"18\", \"20\", \"22\", \"23\", \"25\", \"26\", \"27\", \"28\", \"29\", \"30\", \"31\", \"32\", \"33\", \"34\", \"35\", \"36\", \"37\", \"38\", \"39\", \"40\", \"46\"], \"mode\": \"markers\", \"name\": \"matthews_correlation\", \"stepped\": false, \"type\": \"scatter\", \"data\": [0.5520222016179047, 0.5664769076746822, 0.09016385371033075, 0.5314934343563918, 0.0702166786474018, 0.646741531097291, 0.21584608260739901, 0.34261850152597506, 0.5969239599872418, 0.5182501066018845, 0.45365689149388033, 0.5859016213532486, 0.5912814853944222, 0.6759671096381115, 0.5518533438825797, 0.5808451619909651, 0.637758159591123, 0.570665076316307, 0.604046545687084, 0.6491572627986291, 0.6352182132812589, 0.5397890271661253, 0.0, 0.6182020926159055, 0.5476070635126742, 0.562347336850741, 0.5648775742806957, 0.46776835358705415, 0.6196723190347343]}, {\"categories\": [\"0\", \"1\", \"4\", \"6\", \"8\", \"11\", \"13\", \"16\", \"18\", \"20\", \"22\", \"23\", \"25\", \"26\", \"27\", \"28\", \"29\", \"30\", \"31\", \"32\", \"33\", \"34\", \"35\", \"36\", \"37\", \"38\", \"39\", \"40\", \"46\"], \"mode\": \"lines\", \"name\": \"matthews_correlation_max\", \"stepped\": true, \"type\": \"scatter\", \"data\": [0.5520222016179047, 0.5664769076746822, 0.5664769076746822, 0.5664769076746822, 0.5664769076746822, 0.646741531097291, 0.646741531097291, 0.646741531097291, 0.646741531097291, 0.646741531097291, 0.646741531097291, 0.646741531097291, 0.646741531097291, 0.6759671096381115, 0.6759671096381115, 0.6759671096381115, 0.6759671096381115, 0.6759671096381115, 0.6759671096381115, 0.6759671096381115, 0.6759671096381115, 0.6759671096381115, 0.6759671096381115, 0.6759671096381115, 0.6759671096381115, 0.6759671096381115, 0.6759671096381115, 0.6759671096381115, 0.6759671096381115]}], \"precision_score_macro\": [{\"categories\": [\"0\", \"1\", \"4\", \"6\", \"8\", \"11\", \"13\", \"16\", \"18\", \"20\", \"22\", \"23\", \"25\", \"26\", \"27\", \"28\", \"29\", \"30\", \"31\", \"32\", \"33\", \"34\", \"35\", \"36\", \"37\", \"38\", \"39\", \"40\", \"46\"], \"mode\": \"markers\", \"name\": \"precision_score_macro\", \"stepped\": false, \"type\": \"scatter\", \"data\": [0.7988633681117159, 0.8052905427905428, 0.551547479291075, 0.7534866167988464, 0.5439753134796238, 0.8253131397026745, 0.8066019786910198, 0.7267820512820513, 0.8201219984133434, 0.7702834986015764, 0.7326610621849363, 0.8355724960268627, 0.8203623706801673, 0.851350253088559, 0.8094503396332665, 0.8053207019484909, 0.8433582504867884, 0.7940590984943301, 0.8218670424734782, 0.834255021612001, 0.8311942931168266, 0.8095749774164409, 0.3394742729306488, 0.8218501043595849, 0.7938652843038541, 0.800697477324511, 0.828088151825471, 0.7809947972263445, 0.8301754397742054]}, {\"categories\": [\"0\", \"1\", \"4\", \"6\", \"8\", \"11\", \"13\", \"16\", \"18\", \"20\", \"22\", \"23\", \"25\", \"26\", \"27\", \"28\", \"29\", \"30\", \"31\", \"32\", \"33\", \"34\", \"35\", \"36\", \"37\", \"38\", \"39\", \"40\", \"46\"], \"mode\": \"lines\", \"name\": \"precision_score_macro_max\", \"stepped\": true, \"type\": \"scatter\", \"data\": [0.7988633681117159, 0.8052905427905428, 0.8052905427905428, 0.8052905427905428, 0.8052905427905428, 0.8253131397026745, 0.8253131397026745, 0.8253131397026745, 0.8253131397026745, 0.8253131397026745, 0.8253131397026745, 0.8355724960268627, 0.8355724960268627, 0.851350253088559, 0.851350253088559, 0.851350253088559, 0.851350253088559, 0.851350253088559, 0.851350253088559, 0.851350253088559, 0.851350253088559, 0.851350253088559, 0.851350253088559, 0.851350253088559, 0.851350253088559, 0.851350253088559, 0.851350253088559, 0.851350253088559, 0.851350253088559]}], \"precision_score_weighted\": [{\"categories\": [\"0\", \"1\", \"4\", \"6\", \"8\", \"11\", \"13\", \"16\", \"18\", \"20\", \"22\", \"23\", \"25\", \"26\", \"27\", \"28\", \"29\", \"30\", \"31\", \"32\", \"33\", \"34\", \"35\", \"36\", \"37\", \"38\", \"39\", \"40\", \"46\"], \"mode\": \"markers\", \"name\": \"precision_score_weighted\", \"stepped\": false, \"type\": \"scatter\", \"data\": [0.8107378431547876, 0.8160694003982595, 0.6049745626675379, 0.8038063136671243, 0.5976979453760002, 0.8512950641220112, 0.7667539643624501, 0.7336567716399931, 0.8285540143074402, 0.7940787076142843, 0.7637673294921744, 0.8323643374117555, 0.8277566348356076, 0.8618196919921861, 0.8146678931430936, 0.8214240458549034, 0.847059350450638, 0.8141993593654667, 0.8325949606232349, 0.8520778094605902, 0.8438964820277994, 0.8114876790163874, 0.46100265853890465, 0.8395838317517119, 0.8083041556949746, 0.8141540338855775, 0.8235761918790682, 0.7819946253256072, 0.8415144036634862]}, {\"categories\": [\"0\", \"1\", \"4\", \"6\", \"8\", \"11\", \"13\", \"16\", \"18\", \"20\", \"22\", \"23\", \"25\", \"26\", \"27\", \"28\", \"29\", \"30\", \"31\", \"32\", \"33\", \"34\", \"35\", \"36\", \"37\", \"38\", \"39\", \"40\", \"46\"], \"mode\": \"lines\", \"name\": \"precision_score_weighted_max\", \"stepped\": true, \"type\": \"scatter\", \"data\": [0.8107378431547876, 0.8160694003982595, 0.8160694003982595, 0.8160694003982595, 0.8160694003982595, 0.8512950641220112, 0.8512950641220112, 0.8512950641220112, 0.8512950641220112, 0.8512950641220112, 0.8512950641220112, 0.8512950641220112, 0.8512950641220112, 0.8618196919921861, 0.8618196919921861, 0.8618196919921861, 0.8618196919921861, 0.8618196919921861, 0.8618196919921861, 0.8618196919921861, 0.8618196919921861, 0.8618196919921861, 0.8618196919921861, 0.8618196919921861, 0.8618196919921861, 0.8618196919921861, 0.8618196919921861, 0.8618196919921861, 0.8618196919921861]}], \"log_loss\": [{\"categories\": [\"0\", \"1\", \"4\", \"6\", \"8\", \"11\", \"13\", \"16\", \"18\", \"20\", \"22\", \"23\", \"25\", \"26\", \"27\", \"28\", \"29\", \"30\", \"31\", \"32\", \"33\", \"34\", \"35\", \"36\", \"37\", \"38\", \"39\", \"40\", \"46\"], \"mode\": \"markers\", \"name\": \"log_loss\", \"stepped\": false, \"type\": \"scatter\", \"data\": [0.5357571032208712, 0.5493475885618736, 1.800088680701795, 0.5396129106588412, 1.2614621486583366, 0.4722504581814214, 0.5378592369259664, 0.995985510545208, 0.41085141459163355, 0.4863920113035456, 0.4537395858962531, 0.44640280463713244, 0.4001264166572359, 0.8169346797167742, 0.5752919502755156, 0.40394365725748416, 0.42420165757395983, 0.4437271961516397, 0.40050598944961535, 0.4028728142364947, 0.3866681244367377, 0.42569095830555187, 0.6122672141343519, 0.39754400962229286, 0.49488199001127364, 0.5038212568180042, 0.5732193123673539, 0.6700431333058459, 0.39952582080610577]}, {\"categories\": [\"0\", \"1\", \"4\", \"6\", \"8\", \"11\", \"13\", \"16\", \"18\", \"20\", \"22\", \"23\", \"25\", \"26\", \"27\", \"28\", \"29\", \"30\", \"31\", \"32\", \"33\", \"34\", \"35\", \"36\", \"37\", \"38\", \"39\", \"40\", \"46\"], \"mode\": \"lines\", \"name\": \"log_loss_min\", \"stepped\": true, \"type\": \"scatter\", \"data\": [0.5357571032208712, 0.5357571032208712, 0.5357571032208712, 0.5357571032208712, 0.5357571032208712, 0.4722504581814214, 0.4722504581814214, 0.4722504581814214, 0.41085141459163355, 0.41085141459163355, 0.41085141459163355, 0.41085141459163355, 0.4001264166572359, 0.4001264166572359, 0.4001264166572359, 0.4001264166572359, 0.4001264166572359, 0.4001264166572359, 0.4001264166572359, 0.4001264166572359, 0.3866681244367377, 0.3866681244367377, 0.3866681244367377, 0.3866681244367377, 0.3866681244367377, 0.3866681244367377, 0.3866681244367377, 0.3866681244367377, 0.3866681244367377]}], \"AUC_micro\": [{\"categories\": [\"0\", \"1\", \"4\", \"6\", \"8\", \"11\", \"13\", \"16\", \"18\", \"20\", \"22\", \"23\", \"25\", \"26\", \"27\", \"28\", \"29\", \"30\", \"31\", \"32\", \"33\", \"34\", \"35\", \"36\", \"37\", \"38\", \"39\", \"40\", \"46\"], \"mode\": \"markers\", \"name\": \"AUC_micro\", \"stepped\": false, \"type\": \"scatter\", \"data\": [0.8862267965907442, 0.888559606424135, 0.6670657928321548, 0.8461609567136616, 0.6708244163175832, 0.9091150859070412, 0.8129977698702261, 0.7837091812681112, 0.8931860927185462, 0.8690564268876777, 0.8639314735572472, 0.8824831363952574, 0.9059462857028462, 0.899568432853375, 0.8909290772687917, 0.8996233533024037, 0.8945764384987662, 0.8783462877047581, 0.9020425826664464, 0.9020519345975407, 0.9098752788913413, 0.8967519721333874, 0.8303031184781466, 0.9015374572716944, 0.8804999724737124, 0.8909747949291573, 0.8943213709092184, 0.8571768158591454, 0.901093161969681]}, {\"categories\": [\"0\", \"1\", \"4\", \"6\", \"8\", \"11\", \"13\", \"16\", \"18\", \"20\", \"22\", \"23\", \"25\", \"26\", \"27\", \"28\", \"29\", \"30\", \"31\", \"32\", \"33\", \"34\", \"35\", \"36\", \"37\", \"38\", \"39\", \"40\", \"46\"], \"mode\": \"lines\", \"name\": \"AUC_micro_max\", \"stepped\": true, \"type\": \"scatter\", \"data\": [0.8862267965907442, 0.888559606424135, 0.888559606424135, 0.888559606424135, 0.888559606424135, 0.9091150859070412, 0.9091150859070412, 0.9091150859070412, 0.9091150859070412, 0.9091150859070412, 0.9091150859070412, 0.9091150859070412, 0.9091150859070412, 0.9091150859070412, 0.9091150859070412, 0.9091150859070412, 0.9091150859070412, 0.9091150859070412, 0.9091150859070412, 0.9091150859070412, 0.9098752788913413, 0.9098752788913413, 0.9098752788913413, 0.9098752788913413, 0.9098752788913413, 0.9098752788913413, 0.9098752788913413, 0.9098752788913413, 0.9098752788913413]}], \"accuracy\": [{\"categories\": [\"0\", \"1\", \"4\", \"6\", \"8\", \"11\", \"13\", \"16\", \"18\", \"20\", \"22\", \"23\", \"25\", \"26\", \"27\", \"28\", \"29\", \"30\", \"31\", \"32\", \"33\", \"34\", \"35\", \"36\", \"37\", \"38\", \"39\", \"40\", \"46\"], \"mode\": \"markers\", \"name\": \"accuracy\", \"stepped\": false, \"type\": \"scatter\", \"data\": [0.8093512304250559, 0.8160178970917226, 0.638814317673378, 0.7691498881431768, 0.6421252796420581, 0.8359955257270693, 0.7023489932885906, 0.7391275167785235, 0.8293959731543624, 0.7892170022371365, 0.7659731543624161, 0.8227069351230425, 0.8260626398210291, 0.8595078299776286, 0.8093512304250559, 0.8193959731543624, 0.846152125279642, 0.8160402684563759, 0.8293959731543624, 0.842751677852349, 0.8427740492170023, 0.8060402684563759, 0.6789485458612976, 0.8293736017897092, 0.805973154362416, 0.812662192393736, 0.815973154362416, 0.7827069351230425, 0.8327516778523489]}, {\"categories\": [\"0\", \"1\", \"4\", \"6\", \"8\", \"11\", \"13\", \"16\", \"18\", \"20\", \"22\", \"23\", \"25\", \"26\", \"27\", \"28\", \"29\", \"30\", \"31\", \"32\", \"33\", \"34\", \"35\", \"36\", \"37\", \"38\", \"39\", \"40\", \"46\"], \"mode\": \"lines\", \"name\": \"accuracy_max\", \"stepped\": true, \"type\": \"scatter\", \"data\": [0.8093512304250559, 0.8160178970917226, 0.8160178970917226, 0.8160178970917226, 0.8160178970917226, 0.8359955257270693, 0.8359955257270693, 0.8359955257270693, 0.8359955257270693, 0.8359955257270693, 0.8359955257270693, 0.8359955257270693, 0.8359955257270693, 0.8595078299776286, 0.8595078299776286, 0.8595078299776286, 0.8595078299776286, 0.8595078299776286, 0.8595078299776286, 0.8595078299776286, 0.8595078299776286, 0.8595078299776286, 0.8595078299776286, 0.8595078299776286, 0.8595078299776286, 0.8595078299776286, 0.8595078299776286, 0.8595078299776286, 0.8595078299776286]}], \"average_precision_score_micro\": [{\"categories\": [\"0\", \"1\", \"4\", \"6\", \"8\", \"11\", \"13\", \"16\", \"18\", \"20\", \"22\", \"23\", \"25\", \"26\", \"27\", \"28\", \"29\", \"30\", \"31\", \"32\", \"33\", \"34\", \"35\", \"36\", \"37\", \"38\", \"39\", \"40\", \"46\"], \"mode\": \"markers\", \"name\": \"average_precision_score_micro\", \"stepped\": false, \"type\": \"scatter\", \"data\": [0.8884394781956185, 0.889024171919601, 0.652564882377572, 0.8393349246133952, 0.6565065274748669, 0.9092469092359223, 0.8130869246105205, 0.7651912949512549, 0.8935378818119821, 0.8652018529445242, 0.869182790329938, 0.8801436976662664, 0.9067942335789405, 0.8857550649800299, 0.8903708411380242, 0.8990140852944482, 0.8888360685151667, 0.8732136204662846, 0.9008451499212387, 0.9001445741159614, 0.9099201325582771, 0.896312136168026, 0.8322927952368906, 0.9007425627580405, 0.8777863847950642, 0.8932579459696623, 0.8972257221166846, 0.8572361908638956, 0.8924860942583324]}, {\"categories\": [\"0\", \"1\", \"4\", \"6\", \"8\", \"11\", \"13\", \"16\", \"18\", \"20\", \"22\", \"23\", \"25\", \"26\", \"27\", \"28\", \"29\", \"30\", \"31\", \"32\", \"33\", \"34\", \"35\", \"36\", \"37\", \"38\", \"39\", \"40\", \"46\"], \"mode\": \"lines\", \"name\": \"average_precision_score_micro_max\", \"stepped\": true, \"type\": \"scatter\", \"data\": [0.8884394781956185, 0.889024171919601, 0.889024171919601, 0.889024171919601, 0.889024171919601, 0.9092469092359223, 0.9092469092359223, 0.9092469092359223, 0.9092469092359223, 0.9092469092359223, 0.9092469092359223, 0.9092469092359223, 0.9092469092359223, 0.9092469092359223, 0.9092469092359223, 0.9092469092359223, 0.9092469092359223, 0.9092469092359223, 0.9092469092359223, 0.9092469092359223, 0.9099201325582771, 0.9099201325582771, 0.9099201325582771, 0.9099201325582771, 0.9099201325582771, 0.9099201325582771, 0.9099201325582771, 0.9099201325582771, 0.9099201325582771]}], \"average_precision_score_weighted\": [{\"categories\": [\"0\", \"1\", \"4\", \"6\", \"8\", \"11\", \"13\", \"16\", \"18\", \"20\", \"22\", \"23\", \"25\", \"26\", \"27\", \"28\", \"29\", \"30\", \"31\", \"32\", \"33\", \"34\", \"35\", \"36\", \"37\", \"38\", \"39\", \"40\", \"46\"], \"mode\": \"markers\", \"name\": \"average_precision_score_weighted\", \"stepped\": false, \"type\": \"scatter\", \"data\": [0.879963293173214, 0.8819280181707099, 0.6184273013534898, 0.8578844353878096, 0.6152668480018023, 0.9156306872757101, 0.8113072637089094, 0.7378691813115592, 0.8859149407600699, 0.8618314989623015, 0.8563912836414891, 0.8808541974022499, 0.9029230782042983, 0.8783019330512937, 0.891831736097684, 0.8938406706776225, 0.8832474975985422, 0.8611260738667469, 0.8951100263194895, 0.9030623761876823, 0.9035266734646259, 0.8983837569047001, 0.8388372422861254, 0.904661135867866, 0.8721596964694187, 0.8859145085575129, 0.9011146587544077, 0.8432972333392422, 0.9069365053774368]}, {\"categories\": [\"0\", \"1\", \"4\", \"6\", \"8\", \"11\", \"13\", \"16\", \"18\", \"20\", \"22\", \"23\", \"25\", \"26\", \"27\", \"28\", \"29\", \"30\", \"31\", \"32\", \"33\", \"34\", \"35\", \"36\", \"37\", \"38\", \"39\", \"40\", \"46\"], \"mode\": \"lines\", \"name\": \"average_precision_score_weighted_max\", \"stepped\": true, \"type\": \"scatter\", \"data\": [0.879963293173214, 0.8819280181707099, 0.8819280181707099, 0.8819280181707099, 0.8819280181707099, 0.9156306872757101, 0.9156306872757101, 0.9156306872757101, 0.9156306872757101, 0.9156306872757101, 0.9156306872757101, 0.9156306872757101, 0.9156306872757101, 0.9156306872757101, 0.9156306872757101, 0.9156306872757101, 0.9156306872757101, 0.9156306872757101, 0.9156306872757101, 0.9156306872757101, 0.9156306872757101, 0.9156306872757101, 0.9156306872757101, 0.9156306872757101, 0.9156306872757101, 0.9156306872757101, 0.9156306872757101, 0.9156306872757101, 0.9156306872757101]}], \"f1_score_macro\": [{\"categories\": [\"0\", \"1\", \"4\", \"6\", \"8\", \"11\", \"13\", \"16\", \"18\", \"20\", \"22\", \"23\", \"25\", \"26\", \"27\", \"28\", \"29\", \"30\", \"31\", \"32\", \"33\", \"34\", \"35\", \"36\", \"37\", \"38\", \"39\", \"40\", \"46\"], \"mode\": \"markers\", \"name\": \"f1_score_macro\", \"stepped\": false, \"type\": \"scatter\", \"data\": [0.7673589752759697, 0.7762207092959037, 0.5351292238557777, 0.7528797268470349, 0.517077629923228, 0.8160419299388191, 0.4851813393979293, 0.6362123744539288, 0.7926543034467339, 0.7532093522381003, 0.7227177285368378, 0.776010101010101, 0.7875161735594534, 0.8339765896960267, 0.7619502525824036, 0.7843989895935524, 0.8121064924182086, 0.7833849714471932, 0.7950024694068254, 0.817811534827309, 0.8137679260243558, 0.7525840200618963, 0.4043824701195219, 0.8008350291792341, 0.7660884615885486, 0.7743632536306991, 0.7648469116894225, 0.710977000992691, 0.7998989898989899]}, {\"categories\": [\"0\", \"1\", \"4\", \"6\", \"8\", \"11\", \"13\", \"16\", \"18\", \"20\", \"22\", \"23\", \"25\", \"26\", \"27\", \"28\", \"29\", \"30\", \"31\", \"32\", \"33\", \"34\", \"35\", \"36\", \"37\", \"38\", \"39\", \"40\", \"46\"], \"mode\": \"lines\", \"name\": \"f1_score_macro_max\", \"stepped\": true, \"type\": \"scatter\", \"data\": [0.7673589752759697, 0.7762207092959037, 0.7762207092959037, 0.7762207092959037, 0.7762207092959037, 0.8160419299388191, 0.8160419299388191, 0.8160419299388191, 0.8160419299388191, 0.8160419299388191, 0.8160419299388191, 0.8160419299388191, 0.8160419299388191, 0.8339765896960267, 0.8339765896960267, 0.8339765896960267, 0.8339765896960267, 0.8339765896960267, 0.8339765896960267, 0.8339765896960267, 0.8339765896960267, 0.8339765896960267, 0.8339765896960267, 0.8339765896960267, 0.8339765896960267, 0.8339765896960267, 0.8339765896960267, 0.8339765896960267, 0.8339765896960267]}]}, \"metricName\": null, \"primaryMetricName\": \"accuracy\", \"showLegend\": false}, \"run_metrics\": [{\"name\": \"experiment_status\", \"run_id\": \"AutoML_580b1e1a-0ea0-4980-9412-3c88532c0271\", \"categories\": [0, 1, 2, 3, 4, 5], \"series\": [{\"data\": [\"DatasetEvaluation\", \"FeaturesGeneration\", \"DatasetFeaturization\", \"DatasetFeaturizationCompleted\", \"DatasetCrossValidationSplit\", \"ModelSelection\"]}]}, {\"name\": \"experiment_status_description\", \"run_id\": \"AutoML_580b1e1a-0ea0-4980-9412-3c88532c0271\", \"categories\": [0, 1, 2, 3, 4, 5], \"series\": [{\"data\": [\"Gathering dataset statistics.\", \"Generating features for the dataset.\", \"Beginning to fit featurizers and featurize the dataset.\", \"Completed fit featurizers and featurizing the dataset.\", \"Generating individually featurized CV splits.\", \"Beginning model selection.\"]}]}, {\"name\": \"AUC_micro\", \"run_id\": \"AutoML_580b1e1a-0ea0-4980-9412-3c88532c0271\", \"categories\": [0], \"series\": [{\"data\": [0.917394919147786]}]}, {\"name\": \"f1_score_weighted\", \"run_id\": \"AutoML_580b1e1a-0ea0-4980-9412-3c88532c0271\", \"categories\": [0], \"series\": [{\"data\": [0.8602681304210358]}]}, {\"name\": \"AUC_macro\", \"run_id\": \"AutoML_580b1e1a-0ea0-4980-9412-3c88532c0271\", \"categories\": [0], \"series\": [{\"data\": [0.9070575565385202]}]}, {\"name\": \"AUC_weighted\", \"run_id\": \"AutoML_580b1e1a-0ea0-4980-9412-3c88532c0271\", \"categories\": [0], \"series\": [{\"data\": [0.9070575565385203]}]}, {\"name\": \"f1_score_micro\", \"run_id\": \"AutoML_580b1e1a-0ea0-4980-9412-3c88532c0271\", \"categories\": [0], \"series\": [{\"data\": [0.8628859060402684]}]}, {\"name\": \"precision_score_micro\", \"run_id\": \"AutoML_580b1e1a-0ea0-4980-9412-3c88532c0271\", \"categories\": [0], \"series\": [{\"data\": [0.8628859060402685]}]}, {\"name\": \"matthews_correlation\", \"run_id\": \"AutoML_580b1e1a-0ea0-4980-9412-3c88532c0271\", \"categories\": [0], \"series\": [{\"data\": [0.6810220248468513]}]}, {\"name\": \"recall_score_micro\", \"run_id\": \"AutoML_580b1e1a-0ea0-4980-9412-3c88532c0271\", \"categories\": [0], \"series\": [{\"data\": [0.8628859060402685]}]}, {\"name\": \"recall_score_macro\", \"run_id\": \"AutoML_580b1e1a-0ea0-4980-9412-3c88532c0271\", \"categories\": [0], \"series\": [{\"data\": [0.8282898160317425]}]}, {\"name\": \"accuracy\", \"run_id\": \"AutoML_580b1e1a-0ea0-4980-9412-3c88532c0271\", \"categories\": [0], \"series\": [{\"data\": [0.8628859060402685]}]}, {\"name\": \"average_precision_score_macro\", \"run_id\": \"AutoML_580b1e1a-0ea0-4980-9412-3c88532c0271\", \"categories\": [0], \"series\": [{\"data\": [0.8877990621479463]}]}, {\"name\": \"weighted_accuracy\", \"run_id\": \"AutoML_580b1e1a-0ea0-4980-9412-3c88532c0271\", \"categories\": [0], \"series\": [{\"data\": [0.8897912812627112]}]}, {\"name\": \"balanced_accuracy\", \"run_id\": \"AutoML_580b1e1a-0ea0-4980-9412-3c88532c0271\", \"categories\": [0], \"series\": [{\"data\": [0.8282898160317425]}]}, {\"name\": \"average_precision_score_weighted\", \"run_id\": \"AutoML_580b1e1a-0ea0-4980-9412-3c88532c0271\", \"categories\": [0], \"series\": [{\"data\": [0.9103952493159658]}]}, {\"name\": \"norm_macro_recall\", \"run_id\": \"AutoML_580b1e1a-0ea0-4980-9412-3c88532c0271\", \"categories\": [0], \"series\": [{\"data\": [0.6565796320634848]}]}, {\"name\": \"average_precision_score_micro\", \"run_id\": \"AutoML_580b1e1a-0ea0-4980-9412-3c88532c0271\", \"categories\": [0], \"series\": [{\"data\": [0.9162953770375382]}]}, {\"name\": \"precision_score_macro\", \"run_id\": \"AutoML_580b1e1a-0ea0-4980-9412-3c88532c0271\", \"categories\": [0], \"series\": [{\"data\": [0.8536896841603383]}]}, {\"name\": \"f1_score_macro\", \"run_id\": \"AutoML_580b1e1a-0ea0-4980-9412-3c88532c0271\", \"categories\": [0], \"series\": [{\"data\": [0.8373059918065786]}]}, {\"name\": \"precision_score_weighted\", \"run_id\": \"AutoML_580b1e1a-0ea0-4980-9412-3c88532c0271\", \"categories\": [0], \"series\": [{\"data\": [0.863299439874855]}]}, {\"name\": \"log_loss\", \"run_id\": \"AutoML_580b1e1a-0ea0-4980-9412-3c88532c0271\", \"categories\": [0], \"series\": [{\"data\": [0.3790819129109796]}]}, {\"name\": \"recall_score_weighted\", \"run_id\": \"AutoML_580b1e1a-0ea0-4980-9412-3c88532c0271\", \"categories\": [0], \"series\": [{\"data\": [0.8628859060402685]}]}], \"run_logs\": \"\\nRun is completed.\", \"graph\": {}, \"widget_settings\": {\"childWidgetDisplay\": \"popup\", \"send_telemetry\": false, \"log_level\": \"INFO\", \"sdk_version\": \"1.42.0\"}, \"loading\": false}"
          },
          "metadata": {}
        },
        {
          "output_type": "display_data",
          "data": {
            "text/plain": "<IPython.core.display.HTML object>",
            "text/html": "<table style=\"width:100%\"><tr><th>Experiment</th><th>Id</th><th>Type</th><th>Status</th><th>Details Page</th><th>Docs Page</th></tr><tr><td>ClassifyHeartFailure-AutoML</td><td>AutoML_580b1e1a-0ea0-4980-9412-3c88532c0271</td><td>automl</td><td>NotStarted</td><td><a href=\"https://ml.azure.com/runs/AutoML_580b1e1a-0ea0-4980-9412-3c88532c0271?wsid=/subscriptions/6971f5ac-8af1-446e-8034-05acea24681f/resourcegroups/aml-quickstarts-199609/workspaces/quick-starts-ws-199609&amp;tid=660b3398-b80e-49d2-bc5b-ac1dc93b5254\" target=\"_blank\" rel=\"noopener\">Link to Azure Machine Learning studio</a></td><td><a href=\"https://docs.microsoft.com/en-us/python/api/overview/azure/ml/intro?view=azure-ml-py\" target=\"_blank\" rel=\"noopener\">Link to Documentation</a></td></tr></table>"
          },
          "metadata": {}
        },
        {
          "output_type": "stream",
          "name": "stdout",
          "text": "\nCurrent status: ModelSelection. Beginning model selection.\n\n********************************************************************************************\nDATA GUARDRAILS: \n\nTYPE:         Class balancing detection\nSTATUS:       PASSED\nDESCRIPTION:  Your inputs were analyzed, and all classes are balanced in your training data.\n              Learn more about imbalanced data: https://aka.ms/AutomatedMLImbalancedData\n\n********************************************************************************************\n\nTYPE:         Missing feature values imputation\nSTATUS:       PASSED\nDESCRIPTION:  No feature missing values were detected in the training data.\n              Learn more about missing value imputation: https://aka.ms/AutomatedMLFeaturization\n\n********************************************************************************************\n\nTYPE:         High cardinality feature detection\nSTATUS:       PASSED\nDESCRIPTION:  Your inputs were analyzed, and no high cardinality features were detected.\n              Learn more about high cardinality feature handling: https://aka.ms/AutomatedMLFeaturization\n\n********************************************************************************************\n\n********************************************************************************************\nITER: The iteration being evaluated.\nPIPELINE: A summary description of the pipeline being evaluated.\nDURATION: Time taken for the current iteration.\nMETRIC: The result of computing score on the fitted pipeline.\nBEST: The best observed score thus far.\n********************************************************************************************\n\n ITER   PIPELINE                                       DURATION            METRIC      BEST\n    0   MaxAbsScaler LightGBM                          0:00:12             0.8094    0.8094\n    4   StandardScalerWrapper KNN                      0:00:09             0.6388    0.8094\n    1   MaxAbsScaler XGBoostClassifier                 0:00:07             0.8160    0.8160\n    2   MaxAbsScaler ExtremeRandomTrees                0:00:09             0.8160    0.8160\n    5   MaxAbsScaler LightGBM                          0:00:08             0.8395    0.8395\n    6   RobustScaler LogisticRegression                0:00:08             0.7691    0.8395\n    3   SparseNormalizer XGBoostClassifier             0:00:07             0.7693    0.8395\n    7   MaxAbsScaler LightGBM                          0:00:08             0.8160    0.8395\n    8   StandardScalerWrapper KNN                      0:00:07             0.6421    0.8395\n   10   StandardScalerWrapper XGBoostClassifier        0:00:07             0.7960    0.8395\n    9   StandardScalerWrapper SVM                      0:00:12             0.6956    0.8395\n   11   MinMaxScaler RandomForest                      0:00:08             0.8360    0.8395\n   12   StandardScalerWrapper LogisticRegression       0:00:10             0.7525    0.8395\n   13   StandardScalerWrapper KNN                      0:00:10             0.7023    0.8395\n   14   RobustScaler KNN                               0:00:10             0.7057    0.8395\n   15   MinMaxScaler KNN                               0:00:10             0.6991    0.8395\n   16   SparseNormalizer KNN                           0:00:12             0.7391    0.8395\n   17   MaxAbsScaler LogisticRegression                0:00:07             0.8160    0.8395\n   18   StandardScalerWrapper XGBoostClassifier        0:00:07             0.8294    0.8395\n   19   StandardScalerWrapper XGBoostClassifier        0:00:12             0.8294    0.8395\n   20   MaxAbsScaler LogisticRegression                0:00:04             0.7892    0.8395\n   21   StandardScalerWrapper XGBoostClassifier        0:00:04             0.8562    0.8562\n   22   SparseNormalizer RandomForest                  0:00:04             0.7660    0.8562\n   23   StandardScalerWrapper RandomForest             0:00:04             0.8227    0.8562\n   25   StandardScalerWrapper XGBoostClassifier        0:00:04             0.8261    0.8562\n   24   SparseNormalizer LightGBM                      0:00:04             0.8094    0.8562\n   26   RobustScaler RandomForest                      0:00:04             0.8595    0.8595\n   27   StandardScalerWrapper XGBoostClassifier        0:00:04             0.8094    0.8595\n   28   RobustScaler LightGBM                          0:00:04             0.8194    0.8595\n   29   MinMaxScaler LightGBM                          0:00:04             0.8462    0.8595\n   30   SparseNormalizer XGBoostClassifier             0:00:04             0.8160    0.8595\n   31   StandardScalerWrapper GradientBoosting         0:00:04             0.8294    0.8595\n   32   MinMaxScaler RandomForest                      0:00:04             0.8428    0.8595\n   33   MaxAbsScaler LightGBM                          0:00:04             0.8428    0.8595\n   34   MinMaxScaler LightGBM                          0:00:04             0.8060    0.8595\n   35   SparseNormalizer RandomForest                  0:00:04             0.6789    0.8595\n   36   MinMaxScaler RandomForest                      0:00:04             0.8294    0.8595\n   37   SparseNormalizer XGBoostClassifier             0:00:04             0.8060    0.8595\n   38   StandardScalerWrapper XGBoostClassifier        0:00:04             0.8127    0.8595\n   39   StandardScalerWrapper XGBoostClassifier        0:00:04             0.8160    0.8595\n   40   SparseNormalizer RandomForest                  0:00:04             0.7827    0.8595\n   41                                                  0:00:00                nan    0.8595\n   42                                                  0:00:00                nan    0.8595\n   43                                                  0:00:00                nan    0.8595\n   44                                                  0:00:00                nan    0.8595\n   46    StackEnsemble                                 0:00:04             0.8328    0.8595\n   45    VotingEnsemble                                0:00:04             0.8629    0.8629\n"
        },
        {
          "output_type": "execute_result",
          "execution_count": 7,
          "data": {
            "text/plain": "{'runId': 'AutoML_580b1e1a-0ea0-4980-9412-3c88532c0271',\n 'target': 'Compute-Standard',\n 'status': 'Completed',\n 'startTimeUtc': '2022-06-28T00:55:16.640115Z',\n 'endTimeUtc': '2022-06-28T01:10:49.785517Z',\n 'services': {},\n 'warnings': [{'source': 'JasmineService',\n   'message': 'No scores improved over last 10 iterations, so experiment stopped early. This early stopping behavior can be disabled by setting enable_early_stopping = False in AutoMLConfig for notebook/python SDK runs.'}],\n 'properties': {'num_iterations': '1000',\n  'training_type': 'TrainFull',\n  'acquisition_function': 'EI',\n  'primary_metric': 'accuracy',\n  'train_split': '0',\n  'acquisition_parameter': '0',\n  'num_cross_validation': '2',\n  'target': 'Compute-Standard',\n  'AMLSettingsJsonString': '{\"path\":null,\"name\":\"ClassifyHeartFailure-AutoML\",\"subscription_id\":\"6971f5ac-8af1-446e-8034-05acea24681f\",\"resource_group\":\"aml-quickstarts-199609\",\"workspace_name\":\"quick-starts-ws-199609\",\"region\":\"southcentralus\",\"compute_target\":\"Compute-Standard\",\"spark_service\":null,\"azure_service\":\"remote\",\"many_models\":false,\"pipeline_fetch_max_batch_size\":1,\"enable_batch_run\":true,\"enable_run_restructure\":false,\"start_auxiliary_runs_before_parent_complete\":false,\"enable_code_generation\":true,\"iterations\":1000,\"primary_metric\":\"accuracy\",\"task_type\":\"classification\",\"positive_label\":null,\"data_script\":null,\"test_size\":0.0,\"test_include_predictions_only\":false,\"validation_size\":0.0,\"n_cross_validations\":2,\"y_min\":null,\"y_max\":null,\"num_classes\":null,\"featurization\":\"auto\",\"_ignore_package_version_incompatibilities\":false,\"is_timeseries\":false,\"max_cores_per_iteration\":1,\"max_concurrent_iterations\":5,\"iteration_timeout_minutes\":null,\"mem_in_mb\":null,\"enforce_time_on_windows\":false,\"experiment_timeout_minutes\":30,\"experiment_exit_score\":null,\"partition_column_names\":null,\"whitelist_models\":null,\"blacklist_algos\":[\"TensorFlowLinearClassifier\",\"TensorFlowDNN\"],\"supported_models\":[\"SGD\",\"XGBoostClassifier\",\"AveragedPerceptronClassifier\",\"BernoulliNaiveBayes\",\"KNN\",\"DecisionTree\",\"LogisticRegression\",\"TensorFlowLinearClassifier\",\"ExtremeRandomTrees\",\"MultinomialNaiveBayes\",\"RandomForest\",\"TabnetClassifier\",\"TensorFlowDNN\",\"LinearSVM\",\"GradientBoosting\",\"SVM\",\"LightGBM\"],\"private_models\":[],\"auto_blacklist\":true,\"blacklist_samples_reached\":false,\"exclude_nan_labels\":true,\"verbosity\":20,\"_debug_log\":\"azureml_automl.log\",\"show_warnings\":false,\"model_explainability\":true,\"service_url\":null,\"sdk_url\":null,\"sdk_packages\":null,\"enable_onnx_compatible_models\":false,\"enable_split_onnx_featurizer_estimator_models\":false,\"vm_type\":\"STANDARD_DS3_V2\",\"telemetry_verbosity\":20,\"send_telemetry\":true,\"enable_dnn\":false,\"scenario\":\"SDK-1.13.0\",\"environment_label\":null,\"save_mlflow\":false,\"enable_categorical_indicators\":false,\"force_text_dnn\":false,\"enable_feature_sweeping\":true,\"enable_early_stopping\":true,\"early_stopping_n_iters\":10,\"arguments\":null,\"dataset_id\":\"3689506b-c445-4bd7-a527-46695ffe5ece\",\"hyperdrive_config\":null,\"validation_dataset_id\":null,\"run_source\":null,\"metrics\":null,\"enable_metric_confidence\":false,\"enable_ensembling\":true,\"enable_stack_ensembling\":true,\"ensemble_iterations\":15,\"enable_tf\":false,\"enable_subsampling\":null,\"subsample_seed\":null,\"enable_nimbusml\":false,\"enable_streaming\":false,\"force_streaming\":false,\"track_child_runs\":true,\"allowed_private_models\":[],\"label_column_name\":\"DEATH_EVENT\",\"weight_column_name\":null,\"cv_split_column_names\":null,\"enable_local_managed\":false,\"_local_managed_run_id\":null,\"cost_mode\":1,\"lag_length\":0,\"metric_operation\":\"maximize\",\"preprocess\":true}',\n  'DataPrepJsonString': '{\\\\\"training_data\\\\\": {\\\\\"datasetId\\\\\": \\\\\"3689506b-c445-4bd7-a527-46695ffe5ece\\\\\"}, \\\\\"datasets\\\\\": 0}',\n  'EnableSubsampling': None,\n  'runTemplate': 'AutoML',\n  'azureml.runsource': 'automl',\n  'display_task_type': 'classification',\n  'dependencies_versions': '{\"azureml-widgets\": \"1.42.0\", \"azureml-training-tabular\": \"1.42.0\", \"azureml-train\": \"1.42.0\", \"azureml-train-restclients-hyperdrive\": \"1.42.0\", \"azureml-train-core\": \"1.42.0\", \"azureml-train-automl\": \"1.42.0\", \"azureml-train-automl-runtime\": \"1.42.0\", \"azureml-train-automl-client\": \"1.42.0\", \"azureml-tensorboard\": \"1.42.0\", \"azureml-telemetry\": \"1.42.0\", \"azureml-sdk\": \"1.42.0\", \"azureml-samples\": \"0+unknown\", \"azureml-responsibleai\": \"1.42.0\", \"azureml-pipeline\": \"1.42.0\", \"azureml-pipeline-steps\": \"1.42.0\", \"azureml-pipeline-core\": \"1.42.0\", \"azureml-opendatasets\": \"1.42.0\", \"azureml-mlflow\": \"1.42.0\", \"azureml-interpret\": \"1.42.0\", \"azureml-inference-server-http\": \"0.4.13\", \"azureml-explain-model\": \"1.42.0\", \"azureml-defaults\": \"1.42.0\", \"azureml-dataset-runtime\": \"1.42.0\", \"azureml-dataprep\": \"4.0.1\", \"azureml-dataprep-rslex\": \"2.6.1\", \"azureml-dataprep-native\": \"38.0.0\", \"azureml-datadrift\": \"1.42.0\", \"azureml-core\": \"1.42.0\", \"azureml-contrib-services\": \"1.42.0\", \"azureml-contrib-server\": \"1.42.0\", \"azureml-contrib-reinforcementlearning\": \"1.42.0\", \"azureml-contrib-pipeline-steps\": \"1.42.0\", \"azureml-contrib-notebook\": \"1.42.0\", \"azureml-contrib-fairness\": \"1.42.0\", \"azureml-contrib-dataset\": \"1.42.0\", \"azureml-contrib-automl-pipeline-steps\": \"1.42.0\", \"azureml-cli-common\": \"1.42.0\", \"azureml-automl-runtime\": \"1.42.0\", \"azureml-automl-dnn-nlp\": \"1.42.0\", \"azureml-automl-core\": \"1.42.0\", \"azureml-accel-models\": \"1.42.0\"}',\n  '_aml_system_scenario_identification': 'Remote.Parent',\n  'ClientType': 'SDK',\n  'environment_cpu_name': 'AzureML-AutoML',\n  'environment_cpu_label': 'prod',\n  'environment_gpu_name': 'AzureML-AutoML-GPU',\n  'environment_gpu_label': 'prod',\n  'root_attribution': 'automl',\n  'attribution': 'AutoML',\n  'Orchestrator': 'AutoML',\n  'CancelUri': 'https://southcentralus.api.azureml.ms/jasmine/v1.0/subscriptions/6971f5ac-8af1-446e-8034-05acea24681f/resourceGroups/aml-quickstarts-199609/providers/Microsoft.MachineLearningServices/workspaces/quick-starts-ws-199609/experimentids/6f19f0b0-3cd6-42fd-aa9f-d8152ae5cdf2/cancel/AutoML_580b1e1a-0ea0-4980-9412-3c88532c0271',\n  'ClientSdkVersion': '1.42.0.post1',\n  'snapshotId': '00000000-0000-0000-0000-000000000000',\n  'SetupRunId': 'AutoML_580b1e1a-0ea0-4980-9412-3c88532c0271_setup',\n  'SetupRunContainerId': 'dcid.AutoML_580b1e1a-0ea0-4980-9412-3c88532c0271_setup',\n  'FeaturizationRunJsonPath': 'featurizer_container.json',\n  'FeaturizationRunId': 'AutoML_580b1e1a-0ea0-4980-9412-3c88532c0271_featurize',\n  'ProblemInfoJsonString': '{\"dataset_num_categorical\": 0, \"is_sparse\": false, \"subsampling\": false, \"has_extra_col\": true, \"dataset_classes\": 2, \"dataset_features\": 12, \"dataset_samples\": 299, \"single_frequency_class_detected\": false}',\n  'ModelExplainRunId': 'AutoML_580b1e1a-0ea0-4980-9412-3c88532c0271_ModelExplain'},\n 'inputDatasets': [{'dataset': {'id': '3689506b-c445-4bd7-a527-46695ffe5ece'}, 'consumptionDetails': {'type': 'RunInput', 'inputName': 'training_data', 'mechanism': 'Direct'}}],\n 'outputDatasets': [],\n 'logFiles': {},\n 'submittedBy': 'ODL_User 199609'}"
          },
          "metadata": {}
        }
      ],
      "execution_count": 7,
      "metadata": {
        "gather": {
          "logged": 1656378669934
        },
        "jupyter": {
          "outputs_hidden": false,
          "source_hidden": false
        },
        "nteract": {
          "transient": {
            "deleting": false
          }
        }
      }
    },
    {
      "cell_type": "markdown",
      "source": [
        "## Best Model\n",
        "\n",
        "Get the best model from the automl experiments and display all the properties of the model."
      ],
      "metadata": {}
    },
    {
      "cell_type": "code",
      "source": [
        "# Finding best run and model\n",
        "best_autoML_run, best_autoML_model = remote_run.get_output()\n",
        "\n",
        "# print best run\n",
        "print(best_autoML_run)\n",
        "\n"
      ],
      "outputs": [
        {
          "output_type": "stream",
          "name": "stdout",
          "text": "Run(Experiment: ClassifyHeartFailure-AutoML,\nId: AutoML_580b1e1a-0ea0-4980-9412-3c88532c0271_45,\nType: azureml.scriptrun,\nStatus: Completed)\n"
        }
      ],
      "execution_count": 11,
      "metadata": {
        "gather": {
          "logged": 1656378931612
        },
        "jupyter": {
          "outputs_hidden": false,
          "source_hidden": false
        },
        "nteract": {
          "transient": {
            "deleting": false
          }
        }
      }
    },
    {
      "cell_type": "code",
      "source": [
        "# print best model\r\n",
        "print(best_autoML_model)"
      ],
      "outputs": [
        {
          "output_type": "stream",
          "name": "stdout",
          "text": "Pipeline(memory=None,\n         steps=[('datatransformer',\n                 DataTransformer(enable_dnn=False, enable_feature_sweeping=True, feature_sweeping_config={}, feature_sweeping_timeout=86400, featurization_config=None, force_text_dnn=False, is_cross_validation=True, is_onnx_compatible=False, observer=None, task='classification', working_dir='/mnt/batch/tasks/shared/LS_root/mount...\n                 PreFittedSoftVotingClassifier(classification_labels=array([0, 1]), estimators=[('26', Pipeline(memory=None, steps=[('robustscaler', RobustScaler(copy=True, quantile_range=[10, 90], with_centering=True, with_scaling=True)), ('randomforestclassifier', RandomForestClassifier(bootstrap=True, ccp_alpha=0.0, class_weight=None, criterion='entropy', max_depth=None, max_features=0.8, max_leaf_nodes=None, max_samples=None, min_impurity_decrease=0.0, min_impurity_split=None, min_samples_leaf=0.01, min_samples_split=0.056842105263157895, min_weight_fraction_leaf=0.0, n_estimators=10, n_jobs=1, oob_score=True, random_state=None, verbose=0, warm_start=False))], verbose=False)), ('21', Pipeline(memory=None, steps=[('standardscalerwrapper', StandardScalerWrapper(copy=True, with_mean=False, with_std=False)), ('xgboostclassifier', XGBoostClassifier(booster='gbtree', colsample_bytree=1, eta=0.3, gamma=0, max_depth=10, max_leaves=511, n_estimators=10, n_jobs=1, objective='reg:logistic', problem_info=ProblemInfo(gpu_training_param_dict={'processing_unit_type': 'cpu'}), random_state=0, reg_alpha=2.1875, reg_lambda=0.4166666666666667, subsample=0.5, tree_method='auto'))], verbose=False)), ('29', Pipeline(memory=None, steps=[('minmaxscaler', MinMaxScaler(copy=True, feature_range=(0, 1))), ('lightgbmclassifier', LightGBMClassifier(boosting_type='gbdt', colsample_bytree=0.99, learning_rate=0.03158578947368421, max_bin=40, max_depth=2, min_child_weight=3, min_data_in_leaf=0.08276034482758622, min_split_gain=0.3157894736842105, n_estimators=50, n_jobs=1, num_leaves=146, problem_info=ProblemInfo(gpu_training_param_dict={'processing_unit_type': 'cpu'}), random_state=None, reg_alpha=0.631578947368421, reg_lambda=0.5789473684210527, subsample=0.6436842105263159))], verbose=False)), ('33', Pipeline(memory=None, steps=[('maxabsscaler', MaxAbsScaler(copy=True)), ('lightgbmclassifier', LightGBMClassifier(boosting_type='goss', colsample_bytree=0.99, learning_rate=0.07368684210526316, max_bin=90, max_depth=7, min_child_weight=3, min_data_in_leaf=0.062072758620689665, min_split_gain=0.2631578947368421, n_estimators=50, n_jobs=1, num_leaves=227, problem_info=ProblemInfo(gpu_training_param_dict={'processing_unit_type': 'cpu'}), random_state=None, reg_alpha=0.21052631578947367, reg_lambda=0, subsample=1))], verbose=False)), ('32', Pipeline(memory=None, steps=[('minmaxscaler', MinMaxScaler(copy=True, feature_range=(0, 1))), ('randomforestclassifier', RandomForestClassifier(bootstrap=False, ccp_alpha=0.0, class_weight=None, criterion='entropy', max_depth=None, max_features=0.6, max_leaf_nodes=None, max_samples=None, min_impurity_decrease=0.0, min_impurity_split=None, min_samples_leaf=0.01, min_samples_split=0.2442105263157895, min_weight_fraction_leaf=0.0, n_estimators=200, n_jobs=1, oob_score=False, random_state=None, verbose=0, warm_start=False))], verbose=False)), ('12', Pipeline(memory=None, steps=[('standardscalerwrapper', StandardScalerWrapper(copy=True, with_mean=True, with_std=False)), ('logisticregression', LogisticRegression(C=16.768329368110066, class_weight=None, dual=False, fit_intercept=True, intercept_scaling=1, l1_ratio=None, max_iter=100, multi_class='multinomial', n_jobs=1, penalty='l2', random_state=None, solver='lbfgs', tol=0.0001, verbose=0, warm_start=False))], verbose=False)), ('37', Pipeline(memory=None, steps=[('sparsenormalizer', Normalizer(copy=True, norm='l1')), ('xgboostclassifier', XGBoostClassifier(booster='gbtree', colsample_bytree=1, eta=0.4, gamma=0.1, max_depth=10, max_leaves=127, n_estimators=50, n_jobs=1, objective='reg:logistic', problem_info=ProblemInfo(gpu_training_param_dict={'processing_unit_type': 'cpu'}), random_state=0, reg_alpha=0.8333333333333334, reg_lambda=1.1458333333333335, subsample=0.8, tree_method='auto'))], verbose=False))], flatten_transform=None, weights=[0.1111111111111111, 0.3333333333333333, 0.1111111111111111, 0.1111111111111111, 0.1111111111111111, 0.1111111111111111, 0.1111111111111111]))],\n         verbose=False)\n"
        }
      ],
      "execution_count": 12,
      "metadata": {
        "jupyter": {
          "source_hidden": false,
          "outputs_hidden": false
        },
        "nteract": {
          "transient": {
            "deleting": false
          }
        },
        "gather": {
          "logged": 1656378936244
        }
      }
    },
    {
      "cell_type": "code",
      "source": [
        "# print best model metrics\n",
        "best_autoML_run_metrics = best_autoML_run.get_metrics()\n",
        "\n",
        "for metric_name in best_autoML_run_metrics:\n",
        "    metric = best_autoML_run_metrics[metric_name]\n",
        "    print(metric_name, metric)"
      ],
      "outputs": [
        {
          "output_type": "stream",
          "name": "stdout",
          "text": "recall_score_weighted 0.8628859060402685\naverage_precision_score_micro 0.9162953770375382\naccuracy 0.8628859060402685\naverage_precision_score_weighted 0.9103952493159658\nbalanced_accuracy 0.8282898160317425\nnorm_macro_recall 0.6565796320634848\nAUC_micro 0.917394919147786\nprecision_score_micro 0.8628859060402685\nprecision_score_macro 0.8536896841603383\nmatthews_correlation 0.6810220248468513\nf1_score_micro 0.8628859060402684\nAUC_macro 0.9070575565385202\nf1_score_weighted 0.8602681304210358\nAUC_weighted 0.9070575565385203\nrecall_score_micro 0.8628859060402685\nlog_loss 0.3790819129109796\nweighted_accuracy 0.8897912812627112\nf1_score_macro 0.8373059918065786\nprecision_score_weighted 0.863299439874855\nrecall_score_macro 0.8282898160317425\naverage_precision_score_macro 0.8877990621479463\nconfusion_matrix aml://artifactId/ExperimentRun/dcid.AutoML_580b1e1a-0ea0-4980-9412-3c88532c0271_45/confusion_matrix\naccuracy_table aml://artifactId/ExperimentRun/dcid.AutoML_580b1e1a-0ea0-4980-9412-3c88532c0271_45/accuracy_table\n"
        }
      ],
      "execution_count": 13,
      "metadata": {
        "gather": {
          "logged": 1656378965049
        }
      }
    },
    {
      "cell_type": "code",
      "source": [
        "#Save the best model\n",
        "best_automl_model = best_autoML_run.register_model(model_name='heart_failure_automl',\n",
        "                                                   model_path='outputs/model.pkl', \n",
        "                                                   tags = {'Training context': 'Automated ML'},\n",
        "                                                   properties = {'Accuracy': best_autoML_run_metrics['accuracy']})\n",
        "\n",
        "print(best_automl_model)"
      ],
      "outputs": [
        {
          "output_type": "stream",
          "name": "stdout",
          "text": "Model(workspace=Workspace.create(name='quick-starts-ws-199609', subscription_id='6971f5ac-8af1-446e-8034-05acea24681f', resource_group='aml-quickstarts-199609'), name=heart_failure_automl, id=heart_failure_automl:2, version=2, tags={'Training context': 'Automated ML'}, properties={'Accuracy': '0.8628859060402685'})\n"
        }
      ],
      "execution_count": 14,
      "metadata": {
        "gather": {
          "logged": 1656378992707
        },
        "jupyter": {
          "outputs_hidden": false,
          "source_hidden": false
        },
        "nteract": {
          "transient": {
            "deleting": false
          }
        }
      }
    },
    {
      "cell_type": "markdown",
      "source": [
        "## Model Deployment\n",
        "\n",
        "As part of the project, trained both AutoML model and also the Hyper drive based model. Best model out of these two are picked for deployment. \n",
        "\n",
        "In the cell below, register the model, create an inference config and deploy the model as a web service."
      ],
      "metadata": {}
    },
    {
      "cell_type": "code",
      "source": [
        "# Printing the registered & saved models\n",
        "for model in Model.list(ws):\n",
        "    print(model.name, 'version:', model.version)\n",
        "    for tag_name in model.tags:\n",
        "        tag = model.tags[tag_name]\n",
        "        print ('\\t',tag_name, ':', tag)\n",
        "    for prop_name in model.properties:\n",
        "        prop = model.properties[prop_name]\n",
        "        print ('\\t',prop_name, ':', prop)\n",
        "    print('\\n')"
      ],
      "outputs": [
        {
          "output_type": "stream",
          "name": "stdout",
          "text": "heart_failure_hyperdrive version: 2\n\t Accuracy : 0.7888888888888889\n\t N Estimators : 20\n\t Min Samples Split : 2\n\n\nheart_failure_automl version: 2\n\t Training context : Automated ML\n\t Accuracy : 0.8628859060402685\n\n\nheart_failure_hyperdrive version: 1\n\t Accuracy : 0.7888888888888889\n\t N Estimators : 20\n\t Min Samples Split : 2\n\n\nheart_failure_automl version: 1\n\t Training context : Automated ML\n\t Accuracy : 0.8595525727069351\n\n\n"
        }
      ],
      "execution_count": 15,
      "metadata": {
        "gather": {
          "logged": 1656379713274
        },
        "jupyter": {
          "outputs_hidden": false,
          "source_hidden": false
        },
        "nteract": {
          "transient": {
            "deleting": false
          }
        }
      }
    },
    {
      "cell_type": "markdown",
      "source": [
        "As we can see, Auto ML model performed best compared to hyper drive model. So, will be deployming Auto ML model."
      ],
      "metadata": {}
    },
    {
      "cell_type": "code",
      "source": [
        "# Downloadin the evironment and scoring file\n",
        "best_autoML_run.download_file('outputs/conda_env_v_1_0_0.yml', 'envFile.yml')\n",
        "best_autoML_run.download_file('outputs/scoring_file_v_1_0_0.py', 'scoreScript.py')"
      ],
      "outputs": [],
      "execution_count": 16,
      "metadata": {
        "gather": {
          "logged": 1656379865180
        }
      }
    },
    {
      "cell_type": "code",
      "source": [
        "inference_config = InferenceConfig(entry_script='scoreScript.py',environment=best_autoML_run.get_environment())\n",
        "\n",
        "# Deploying the model\n",
        "deployment_config = AciWebservice.deploy_configuration(cpu_cores = 1, memory_gb = 1)\n",
        "service = Model.deploy(ws, \n",
        "                       \"myservice\", \n",
        "                       [best_automl_model], \n",
        "                       inference_config, \n",
        "                       deployment_config)\n",
        "\n",
        "service.wait_for_deployment(show_output = True)\n",
        "print(service.state)\n",
        "print(service.scoring_uri)\n",
        "print(service.swagger_uri)"
      ],
      "outputs": [
        {
          "output_type": "stream",
          "name": "stdout",
          "text": "Tips: You can try get_logs(): https://aka.ms/debugimage#dockerlog or local deployment: https://aka.ms/debugimage#debug-locally to debug if deployment takes longer than 10 minutes.\nRunning\n2022-06-28 01:31:13+00:00 Creating Container Registry if not exists.\n2022-06-28 01:31:13+00:00 Registering the environment.\n2022-06-28 01:31:14+00:00 Use the existing image.\n2022-06-28 01:31:14+00:00 Generating deployment configuration.\n2022-06-28 01:31:14+00:00 Submitting deployment to compute.\n2022-06-28 01:31:17+00:00 Checking the status of deployment myservice..\n2022-06-28 01:35:38+00:00 Checking the status of inference endpoint myservice.\nSucceeded\nACI service creation operation finished, operation \"Succeeded\"\nHealthy\nhttp://7d0ae494-b0b6-4b06-ade9-7fad47ff694e.southcentralus.azurecontainer.io/score\nhttp://7d0ae494-b0b6-4b06-ade9-7fad47ff694e.southcentralus.azurecontainer.io/swagger.json\n"
        }
      ],
      "execution_count": 17,
      "metadata": {
        "gather": {
          "logged": 1656380150696
        }
      }
    },
    {
      "cell_type": "markdown",
      "source": [
        "In the cell below, send a request to the web service you deployed to test it."
      ],
      "metadata": {
        "collapsed": true,
        "gather": {
          "logged": 1598431657736
        },
        "jupyter": {
          "outputs_hidden": false,
          "source_hidden": false
        },
        "nteract": {
          "transient": {
            "deleting": false
          }
        }
      }
    },
    {
      "cell_type": "code",
      "source": [
        "# Creating Test data and labels \n",
        "test_df = data.to_pandas_dataframe().dropna().sample(2)\n",
        "label_df = test_df.pop(\"DEATH_EVENT\")\n",
        "\n",
        "test_data = json.dumps({'data': test_df.to_dict(orient='records')})\n",
        "print(test_data)"
      ],
      "outputs": [
        {
          "output_type": "stream",
          "name": "stdout",
          "text": "{\"data\": [{\"age\": 61.0, \"anaemia\": 0, \"creatinine_phosphokinase\": 582, \"diabetes\": 1, \"ejection_fraction\": 38, \"high_blood_pressure\": 0, \"platelets\": 147000.0, \"serum_creatinine\": 1.2, \"serum_sodium\": 141, \"sex\": 1, \"smoking\": 0, \"time\": 237}, {\"age\": 49.0, \"anaemia\": 0, \"creatinine_phosphokinase\": 972, \"diabetes\": 1, \"ejection_fraction\": 35, \"high_blood_pressure\": 1, \"platelets\": 268000.0, \"serum_creatinine\": 0.8, \"serum_sodium\": 130, \"sex\": 0, \"smoking\": 0, \"time\": 187}]}\n"
        }
      ],
      "execution_count": 18,
      "metadata": {
        "gather": {
          "logged": 1656380152459
        },
        "jupyter": {
          "outputs_hidden": false,
          "source_hidden": false
        },
        "nteract": {
          "transient": {
            "deleting": false
          }
        }
      }
    },
    {
      "cell_type": "code",
      "source": [
        "# Requesting webservice to get response\n",
        "\n",
        "response = requests.post(service.scoring_uri, test_data, headers = {'Content-type': 'application/json'})\n",
        "print(response.text)\n",
        "print(label_df)"
      ],
      "outputs": [
        {
          "output_type": "stream",
          "name": "stdout",
          "text": "\"{\\\"result\\\": [0, 0]}\"\n264    0\n209    0\nName: DEATH_EVENT, dtype: int64\n"
        }
      ],
      "execution_count": 19,
      "metadata": {
        "gather": {
          "logged": 1656380152917
        }
      }
    },
    {
      "cell_type": "markdown",
      "source": [
        "In the cell below, print the logs of the web service and delete the service"
      ],
      "metadata": {
        "collapsed": true,
        "gather": {
          "logged": 1598432765711
        },
        "jupyter": {
          "outputs_hidden": false,
          "source_hidden": false
        },
        "nteract": {
          "transient": {
            "deleting": false
          }
        }
      }
    },
    {
      "cell_type": "code",
      "source": [
        "print(service.get_logs())"
      ],
      "outputs": [
        {
          "output_type": "stream",
          "name": "stdout",
          "text": "2022-06-28T01:35:27,495307690+00:00 - gunicorn/run \n2022-06-28T01:35:27,495307090+00:00 - iot-server/run \n2022-06-28T01:35:27,510305204+00:00 - nginx/run \n2022-06-28T01:35:27,515980348+00:00 | gunicorn/run | \n2022-06-28T01:35:27,500897133+00:00 - rsyslog/run \n2022-06-28T01:35:27,550959113+00:00 | gunicorn/run | ###############################################\n2022-06-28T01:35:27,568629448+00:00 | gunicorn/run | AzureML Container Runtime Information\n2022-06-28T01:35:27,589090703+00:00 | gunicorn/run | ###############################################\n2022-06-28T01:35:27,602709207+00:00 | gunicorn/run | \n2022-06-28T01:35:27,618068723+00:00 | gunicorn/run | \n2022-06-28T01:35:27,626966791+00:00 | gunicorn/run | AzureML image information: openmpi3.1.2-ubuntu18.04:20220516.v1\n2022-06-28T01:35:27,636615164+00:00 | gunicorn/run | \n2022-06-28T01:35:27,640603595+00:00 | gunicorn/run | \n2022-06-28T01:35:27,646099936+00:00 | gunicorn/run | PATH environment variable: /azureml-envs/azureml_76f657337a187f659ea5be5d48904769/bin:/opt/miniconda/bin:/usr/local/sbin:/usr/local/bin:/usr/sbin:/usr/bin:/sbin:/bin\n2022-06-28T01:35:27,648073851+00:00 | gunicorn/run | PYTHONPATH environment variable: \n2022-06-28T01:35:27,654880303+00:00 | gunicorn/run | \n2022-06-28T01:35:27,665304682+00:00 | gunicorn/run | Pip Dependencies (before dynamic installation)\n\nEdgeHubConnectionString and IOTEDGE_IOTHUBHOSTNAME are not set. Exiting...\n2022-06-28T01:35:28,081846748+00:00 - iot-server/finish 1 0\n2022-06-28T01:35:28,085364575+00:00 - Exit code 1 is normal. Not restarting iot-server.\nadal==1.2.7\napplicationinsights==0.11.10\nargcomplete==2.0.0\narviz @ file:///tmp/build/80754af9/arviz_1614019183254/work\nattrs==21.4.0\nazure-common==1.1.28\nazure-core==1.22.1\nazure-graphrbac==0.61.1\nazure-identity==1.7.0\nazure-mgmt-authorization==2.0.0\nazure-mgmt-containerregistry==9.1.0\nazure-mgmt-core==1.3.0\nazure-mgmt-keyvault==9.3.0\nazure-mgmt-resource==21.0.0\nazure-mgmt-storage==20.0.0\nazure-storage-queue==12.3.0\nazureml-automl-core==1.42.0.post1\nazureml-automl-runtime==1.42.0.post1\nazureml-core==1.42.0\nazureml-dataprep==4.0.3\nazureml-dataprep-native==38.0.0\nazureml-dataprep-rslex==2.6.3\nazureml-dataset-runtime==1.42.0\nazureml-defaults==1.42.0\nazureml-inference-server-http==0.4.13\nazureml-interpret==1.42.0\nazureml-mlflow==1.42.0\nazureml-pipeline-core==1.42.0\nazureml-responsibleai==1.42.0\nazureml-telemetry==1.42.0\nazureml-train-automl-client==1.42.0.post1\nazureml-train-automl-runtime==1.42.0.post1\nazureml-train-core==1.42.0\nazureml-train-restclients-hyperdrive==1.42.0\nazureml-training-tabular==1.42.0.post1\nbackcall==0.2.0\nbackports.tempfile==1.0\nbackports.weakref==1.0.post1\nbcrypt==3.2.2\nbokeh==2.4.3\nboto==2.49.0\nboto3==1.15.18\nbotocore==1.18.18\ncachetools==5.2.0\ncertifi==2021.10.8\ncffi==1.15.0\ncftime @ file:///tmp/build/80754af9/cftime_1638345281172/work\ncharset-normalizer==2.0.12\nclick==7.1.2\ncloudpickle==1.6.0\nconfigparser==3.7.4\ncontextlib2==21.6.0\nconvertdate @ file:///tmp/build/80754af9/convertdate_1634070773133/work\ncryptography==36.0.2\ncycler @ file:///tmp/build/80754af9/cycler_1637851556182/work\nCython @ file:///tmp/build/80754af9/cython_1647850341668/work\ndask==2.30.0\ndatabricks-cli==0.16.6\ndataclasses==0.6\ndebugpy==1.6.0\ndecorator==5.1.1\ndice-ml==0.7.2\ndill==0.3.5.1\ndistributed==2.30.1\ndistro==1.7.0\ndocker==5.0.3\ndotnetcore2==3.1.23\ndowhy==0.7.1\neconml==0.12.0\nentrypoints==0.4\nephem @ file:///tmp/build/80754af9/ephem_1638960312619/work\nerroranalysis==0.3.2\nfairlearn==0.7.0\nfbprophet @ file:///home/conda/feedstock_root/build_artifacts/fbprophet_1599365534439/work\nfire==0.4.0\nFlask==1.0.3\nflatbuffers==2.0\nfonttools==4.25.0\nfsspec==2022.5.0\ngensim==3.8.3\ngitdb==4.0.9\nGitPython==3.1.27\ngoogle-api-core==2.8.1\ngoogle-auth==2.6.6\ngoogleapis-common-protos==1.56.2\ngunicorn==20.1.0\nh5py==3.7.0\nHeapDict==1.0.1\nholidays @ file:///home/conda/feedstock_root/build_artifacts/holidays_1595448845196/work\nhumanfriendly==10.0\nidna==3.3\nimportlib-metadata==4.11.4\nimportlib-resources==5.7.1\ninference-schema==1.3.2\ninterpret-community==0.25.0\ninterpret-core==0.2.7\nipykernel==6.6.0\nipython==7.34.0\nisodate==0.6.1\nitsdangerous==1.1.0\njedi==0.18.1\njeepney==0.8.0\nJinja2==2.11.2\njmespath==1.0.0\njoblib==0.14.1\njson-logging-py==0.2\njsonpickle==2.2.0\njsonschema==4.6.0\njupyter-client==7.3.1\njupyter-core==4.10.0\nkeras2onnx==1.6.0\nkiwisolver @ file:///opt/conda/conda-bld/kiwisolver_1638569886207/work\nknack==0.9.0\nkorean-lunar-calendar @ file:///tmp/build/80754af9/korean_lunar_calendar_1634063020401/work\nlightgbm==3.2.1\nllvmlite==0.36.0\nlocket==1.0.0\nLunarCalendar @ file:///tmp/build/80754af9/lunarcalendar_1646383991234/work\nMarkupSafe==2.0.1\nmatplotlib @ file:///tmp/build/80754af9/matplotlib-suite_1634667019719/work\nmatplotlib-inline==0.1.3\nmkl-fft==1.3.0\nmkl-random==1.1.0\nmkl-service==2.3.0\nml-wrappers==0.1.0\nmlflow-skinny==1.26.1\nmpi4py==3.1.3\nmpmath==1.2.1\nmsal==1.18.0\nmsal-extensions==1.0.0\nmsgpack==1.0.3\nmsrest==0.6.21\nmsrestazure==0.6.4\nmunkres==1.1.4\nndg-httpsclient==0.5.1\nnest-asyncio==1.5.5\nnetCDF4==1.5.7\nnetworkx==2.5\nnimbusml==1.8.0\nnumba==0.53.1\nnumpy==1.18.5\noauthlib==3.2.0\nonnx==1.7.0\nonnxconverter-common==1.6.0\nonnxmltools==1.4.1\nonnxruntime==1.8.1\nopencensus==0.9.0\nopencensus-context==0.1.2\nopencensus-ext-azure==1.1.4\npackaging @ file:///tmp/build/80754af9/packaging_1637314298585/work\npandas==1.1.5\nparamiko==2.11.0\nparso==0.8.3\npartd==1.2.0\npathspec==0.9.0\npatsy==0.5.2\npexpect==4.8.0\npickleshare==0.7.5\nPillow==9.0.1\npkginfo==1.8.2\npmdarima==1.7.1\nportalocker==2.4.0\nprompt-toolkit==3.0.29\nprotobuf==3.20.1\npsutil @ file:///tmp/build/80754af9/psutil_1612298016854/work\nptyprocess==0.7.0\npy-cpuinfo==5.0.0\npyarrow==3.0.0\npyasn1==0.4.8\npyasn1-modules==0.2.8\npycparser==2.21\npydot==1.4.2\nPygments==2.12.0\nPyJWT==2.4.0\nPyMeeus @ file:///tmp/build/80754af9/pymeeus_1634069098549/work\nPyNaCl==1.5.0\npyOpenSSL==22.0.0\npyparsing @ file:///tmp/build/80754af9/pyparsing_1635766073266/work\npyrsistent==0.18.1\nPySocks==1.7.1\npystan @ file:///tmp/build/80754af9/pystan_1613565226242/work\npython-dateutil @ file:///tmp/build/80754af9/python-dateutil_1626374649649/work\npytz==2021.3\nPyYAML==6.0\npyzmq==23.1.0\nraiutils==0.0.1\nrequests==2.27.1\nrequests-oauthlib==1.3.1\nresponsibleai==0.18.1\nrsa==4.8\ns3transfer==0.3.7\nscikit-learn==0.22.1\nscipy==1.5.2\nSecretStorage==3.3.2\nsemver==2.13.0\nsetuptools-git==1.2\nshap==0.39.0\nsix @ file:///tmp/build/80754af9/six_1644875935023/work\nskl2onnx==1.4.9\nsklearn-pandas==1.7.0\nslicer==0.0.7\nsmart-open==1.9.0\nsmmap==5.0.0\nsortedcontainers==2.4.0\nsparse==0.13.0\nstatsmodels==0.11.1\nsympy==1.10.1\ntabulate==0.8.9\ntblib==1.7.0\ntermcolor==1.1.0\ntoolz==0.11.2\ntornado @ file:///tmp/build/80754af9/tornado_1606942283357/work\ntqdm @ file:///opt/conda/conda-bld/tqdm_1650891076910/work\ntraitlets==5.2.2.post1\ntyping-extensions @ file:///opt/conda/conda-bld/typing_extensions_1647553014482/work\nurllib3==1.26.9\nwcwidth==0.2.5\nwebsocket-client==1.3.2\nWerkzeug==1.0.1\nwrapt==1.12.1\nxarray @ file:///opt/conda/conda-bld/xarray_1639166117697/work\nxgboost==1.3.3\nzict==2.2.0\nzipp==3.8.0\n\n2022-06-28T01:35:29,650398969+00:00 | gunicorn/run | \n2022-06-28T01:35:29,652301983+00:00 | gunicorn/run | ###############################################\n2022-06-28T01:35:29,654984103+00:00 | gunicorn/run | AzureML Inference Server\n2022-06-28T01:35:29,660172743+00:00 | gunicorn/run | ###############################################\n2022-06-28T01:35:29,671667430+00:00 | gunicorn/run | \n2022-06-28T01:35:29,673449644+00:00 | gunicorn/run | \n2022-06-28T01:35:29,676356366+00:00 | gunicorn/run | Starting HTTP server\n2022-06-28T01:35:29,678672583+00:00 | gunicorn/run | \nStarting gunicorn 20.1.0\nListening at: http://127.0.0.1:31311 (80)\nUsing worker: sync\nworker timeout is set to 300\nBooting worker with pid: 130\nSPARK_HOME not set. Skipping PySpark Initialization.\nInitializing logger\n2022-06-28 01:35:32,124 | root | INFO | Starting up app insights client\nlogging socket was found. logging is available.\nlogging socket was found. logging is available.\n2022-06-28 01:35:32,126 | root | INFO | Starting up request id generator\n2022-06-28 01:35:32,126 | root | INFO | Starting up app insight hooks\n2022-06-28 01:35:32,126 | root | INFO | Invoking user's init function\n2022-06-28 01:35:39,772 | azureml.core | WARNING | Failure while loading azureml_run_type_providers. Failed to load entrypoint automl = azureml.train.automl.run:AutoMLRun._from_run_dto with exception (msal-extensions 1.0.0 (/azureml-envs/azureml_76f657337a187f659ea5be5d48904769/lib/python3.7/site-packages), Requirement.parse('msal-extensions~=0.3.0'), {'azure-identity'}).\nFailure while loading azureml_run_type_providers. Failed to load entrypoint automl = azureml.train.automl.run:AutoMLRun._from_run_dto with exception (msal-extensions 1.0.0 (/azureml-envs/azureml_76f657337a187f659ea5be5d48904769/lib/python3.7/site-packages), Requirement.parse('msal-extensions~=0.3.0'), {'azure-identity'}).\n2022-06-28 01:35:42,211 | root | INFO | Users's init has completed successfully\n2022-06-28 01:35:42,251 | root | INFO | Skipping middleware: dbg_model_info as it's not enabled.\n2022-06-28 01:35:42,251 | root | INFO | Skipping middleware: dbg_resource_usage as it's not enabled.\nGenerating swagger file: /tmp/tmph3qd_ci4\n2022-06-28 01:35:42,259 | root | INFO | Scoring timeout is found from os.environ: 60000 ms\n2022-06-28 01:35:42,283 | root | INFO | 200\n127.0.0.1 - - [28/Jun/2022:01:35:42 +0000] \"GET /swagger.json HTTP/1.0\" 200 3137 \"-\" \"Go-http-client/1.1\"\n2022-06-28 01:35:49,823 | root | INFO | 200\n127.0.0.1 - - [28/Jun/2022:01:35:49 +0000] \"GET /swagger.json HTTP/1.0\" 200 3137 \"-\" \"Go-http-client/1.1\"\n2022-06-28 01:35:50,860 | root | INFO | Validation Request Content-Type\n2022-06-28 01:35:50,860 | root | INFO | Scoring Timer is set to 60.0 seconds\n2022-06-28 01:35:51,085 | root | INFO | 200\n127.0.0.1 - - [28/Jun/2022:01:35:51 +0000] \"POST /score HTTP/1.0\" 200 22 \"-\" \"python-requests/2.27.1\"\n\n"
        }
      ],
      "execution_count": 20,
      "metadata": {
        "jupyter": {
          "outputs_hidden": false,
          "source_hidden": false
        },
        "nteract": {
          "transient": {
            "deleting": false
          }
        },
        "gather": {
          "logged": 1656380153248
        }
      }
    },
    {
      "cell_type": "code",
      "source": [
        "service.delete()"
      ],
      "outputs": [],
      "execution_count": 21,
      "metadata": {
        "gather": {
          "logged": 1656383746642
        }
      }
    },
    {
      "cell_type": "markdown",
      "source": [
        "**Submission Checklist**\n",
        "- I have registered the model.\n",
        "- I have deployed the model with the best accuracy as a webservice.\n",
        "- I have tested the webservice by sending a request to the model endpoint.\n",
        "- I have deleted the webservice and shutdown all the computes that I have used.\n",
        "- I have taken a screenshot showing the model endpoint as active.\n",
        "- The project includes a file containing the environment details.\n"
      ],
      "metadata": {}
    },
    {
      "cell_type": "markdown",
      "source": [],
      "metadata": {}
    }
  ],
  "metadata": {
    "kernel_info": {
      "name": "python3"
    },
    "kernelspec": {
      "name": "python3",
      "language": "python",
      "display_name": "Python 3 (ipykernel)"
    },
    "language_info": {
      "name": "python",
      "version": "3.8.5",
      "mimetype": "text/x-python",
      "codemirror_mode": {
        "name": "ipython",
        "version": 3
      },
      "pygments_lexer": "ipython3",
      "nbconvert_exporter": "python",
      "file_extension": ".py"
    },
    "nteract": {
      "version": "nteract-front-end@1.0.0"
    },
    "microsoft": {
      "host": {
        "AzureML": {
          "notebookHasBeenCompleted": true
        }
      }
    }
  },
  "nbformat": 4,
  "nbformat_minor": 2
}